{
 "cells": [
  {
   "cell_type": "markdown",
   "id": "150cbb54-5346-4f0f-a580-9f081a6d71a7",
   "metadata": {},
   "source": [
    "Group: 14 \\\n",
    "Name(Student Number): \\\n",
    "Jun Zheng(10827335), \\\n",
    "                      JIAWEI GUO(ZOE) (98802358) \\\n",
    "                      Sacha Dehnel (18803304) "
   ]
  },
  {
   "cell_type": "markdown",
   "id": "1027e050-c94f-4caa-8209-c259f380f8a0",
   "metadata": {},
   "source": [
    "# Finding investment properties in Melbourne"
   ]
  },
  {
   "cell_type": "markdown",
   "id": "11a4ac26-1780-4611-aa46-dc8a7bc85728",
   "metadata": {},
   "source": [
    "## Introduction\n",
    "  In recent years, global housing has experienced robust growth, but some regions have faced decline. Melbourne is known for its diversity and cultural scene, and it is always a popular  real estate scene that attracts investors globally. In our project, we will mainly focus on the housing prices in Melbourne. We will explore whether a property is worth the investment in Melbourne. In essence, “What houses in Melbourne are undervalued, and thus a potential investment?”            To answer this question, we will use the Melbourne Housing Dataset. In this dataset we have 21 columns, of which we will only focus on eight of them. These are: the number of rooms, distance from city center, number of bathrooms, property size, building area, the year the building was constructed, its location, number of properties in the suburb as our predictors and the price of the property as our response variable.\n",
    "\n"
   ]
  },
  {
   "cell_type": "markdown",
   "id": "6ef0ac53-03e4-44ae-9011-f622333b38fa",
   "metadata": {},
   "source": [
    "## Preliminary exploratory data analysis\n",
    "### Reading Data\n",
    "We read the data by a relative path and we find that the Address is not tidy and actually we do not need that so we just delete that column and get the tidy version of the dataframe."
   ]
  },
  {
   "cell_type": "code",
   "execution_count": 62,
   "id": "51da860a-8962-42bf-8ce0-0cd3763da85d",
   "metadata": {},
   "outputs": [
    {
     "name": "stderr",
     "output_type": "stream",
     "text": [
      "\u001b[1mRows: \u001b[22m\u001b[34m13580\u001b[39m \u001b[1mColumns: \u001b[22m\u001b[34m21\u001b[39m\n",
      "\u001b[36m──\u001b[39m \u001b[1mColumn specification\u001b[22m \u001b[36m────────────────────────────────────────────────────────\u001b[39m\n",
      "\u001b[1mDelimiter:\u001b[22m \",\"\n",
      "\u001b[31mchr\u001b[39m  (8): Suburb, Address, Type, Method, SellerG, Date, CouncilArea, Regionname\n",
      "\u001b[32mdbl\u001b[39m (13): Rooms, Price, Distance, Postcode, Bedroom2, Bathroom, Car, Landsiz...\n",
      "\n",
      "\u001b[36mℹ\u001b[39m Use `spec()` to retrieve the full column specification for this data.\n",
      "\u001b[36mℹ\u001b[39m Specify the column types or set `show_col_types = FALSE` to quiet this message.\n"
     ]
    },
    {
     "data": {
      "text/html": [
       "<table class=\"dataframe\">\n",
       "<caption>A tibble: 6 × 20</caption>\n",
       "<thead>\n",
       "\t<tr><th scope=col>Suburb</th><th scope=col>Rooms</th><th scope=col>Type</th><th scope=col>Price</th><th scope=col>Method</th><th scope=col>SellerG</th><th scope=col>Date</th><th scope=col>Distance</th><th scope=col>Postcode</th><th scope=col>Bedroom2</th><th scope=col>Bathroom</th><th scope=col>Car</th><th scope=col>Landsize</th><th scope=col>BuildingArea</th><th scope=col>YearBuilt</th><th scope=col>CouncilArea</th><th scope=col>Lattitude</th><th scope=col>Longtitude</th><th scope=col>Regionname</th><th scope=col>Propertycount</th></tr>\n",
       "\t<tr><th scope=col>&lt;chr&gt;</th><th scope=col>&lt;dbl&gt;</th><th scope=col>&lt;chr&gt;</th><th scope=col>&lt;dbl&gt;</th><th scope=col>&lt;chr&gt;</th><th scope=col>&lt;chr&gt;</th><th scope=col>&lt;chr&gt;</th><th scope=col>&lt;dbl&gt;</th><th scope=col>&lt;dbl&gt;</th><th scope=col>&lt;dbl&gt;</th><th scope=col>&lt;dbl&gt;</th><th scope=col>&lt;dbl&gt;</th><th scope=col>&lt;dbl&gt;</th><th scope=col>&lt;dbl&gt;</th><th scope=col>&lt;dbl&gt;</th><th scope=col>&lt;chr&gt;</th><th scope=col>&lt;dbl&gt;</th><th scope=col>&lt;dbl&gt;</th><th scope=col>&lt;chr&gt;</th><th scope=col>&lt;dbl&gt;</th></tr>\n",
       "</thead>\n",
       "<tbody>\n",
       "\t<tr><td>Abbotsford</td><td>2</td><td>h</td><td>1480000</td><td>S </td><td>Biggin</td><td>3/12/2016</td><td>2.5</td><td>3067</td><td>2</td><td>1</td><td>1</td><td>202</td><td> NA</td><td>  NA</td><td>Yarra</td><td>-37.7996</td><td>144.9984</td><td>Northern Metropolitan</td><td>4019</td></tr>\n",
       "\t<tr><td>Abbotsford</td><td>2</td><td>h</td><td>1035000</td><td>S </td><td>Biggin</td><td>4/02/2016</td><td>2.5</td><td>3067</td><td>2</td><td>1</td><td>0</td><td>156</td><td> 79</td><td>1900</td><td>Yarra</td><td>-37.8079</td><td>144.9934</td><td>Northern Metropolitan</td><td>4019</td></tr>\n",
       "\t<tr><td>Abbotsford</td><td>3</td><td>h</td><td>1465000</td><td>SP</td><td>Biggin</td><td>4/03/2017</td><td>2.5</td><td>3067</td><td>3</td><td>2</td><td>0</td><td>134</td><td>150</td><td>1900</td><td>Yarra</td><td>-37.8093</td><td>144.9944</td><td>Northern Metropolitan</td><td>4019</td></tr>\n",
       "\t<tr><td>Abbotsford</td><td>3</td><td>h</td><td> 850000</td><td>PI</td><td>Biggin</td><td>4/03/2017</td><td>2.5</td><td>3067</td><td>3</td><td>2</td><td>1</td><td> 94</td><td> NA</td><td>  NA</td><td>Yarra</td><td>-37.7969</td><td>144.9969</td><td>Northern Metropolitan</td><td>4019</td></tr>\n",
       "\t<tr><td>Abbotsford</td><td>4</td><td>h</td><td>1600000</td><td>VB</td><td>Nelson</td><td>4/06/2016</td><td>2.5</td><td>3067</td><td>3</td><td>1</td><td>2</td><td>120</td><td>142</td><td>2014</td><td>Yarra</td><td>-37.8072</td><td>144.9941</td><td>Northern Metropolitan</td><td>4019</td></tr>\n",
       "\t<tr><td>Abbotsford</td><td>2</td><td>h</td><td> 941000</td><td>S </td><td>Jellis</td><td>7/05/2016</td><td>2.5</td><td>3067</td><td>2</td><td>1</td><td>0</td><td>181</td><td> NA</td><td>  NA</td><td>Yarra</td><td>-37.8041</td><td>144.9953</td><td>Northern Metropolitan</td><td>4019</td></tr>\n",
       "</tbody>\n",
       "</table>\n"
      ],
      "text/latex": [
       "A tibble: 6 × 20\n",
       "\\begin{tabular}{llllllllllllllllllll}\n",
       " Suburb & Rooms & Type & Price & Method & SellerG & Date & Distance & Postcode & Bedroom2 & Bathroom & Car & Landsize & BuildingArea & YearBuilt & CouncilArea & Lattitude & Longtitude & Regionname & Propertycount\\\\\n",
       " <chr> & <dbl> & <chr> & <dbl> & <chr> & <chr> & <chr> & <dbl> & <dbl> & <dbl> & <dbl> & <dbl> & <dbl> & <dbl> & <dbl> & <chr> & <dbl> & <dbl> & <chr> & <dbl>\\\\\n",
       "\\hline\n",
       "\t Abbotsford & 2 & h & 1480000 & S  & Biggin & 3/12/2016 & 2.5 & 3067 & 2 & 1 & 1 & 202 &  NA &   NA & Yarra & -37.7996 & 144.9984 & Northern Metropolitan & 4019\\\\\n",
       "\t Abbotsford & 2 & h & 1035000 & S  & Biggin & 4/02/2016 & 2.5 & 3067 & 2 & 1 & 0 & 156 &  79 & 1900 & Yarra & -37.8079 & 144.9934 & Northern Metropolitan & 4019\\\\\n",
       "\t Abbotsford & 3 & h & 1465000 & SP & Biggin & 4/03/2017 & 2.5 & 3067 & 3 & 2 & 0 & 134 & 150 & 1900 & Yarra & -37.8093 & 144.9944 & Northern Metropolitan & 4019\\\\\n",
       "\t Abbotsford & 3 & h &  850000 & PI & Biggin & 4/03/2017 & 2.5 & 3067 & 3 & 2 & 1 &  94 &  NA &   NA & Yarra & -37.7969 & 144.9969 & Northern Metropolitan & 4019\\\\\n",
       "\t Abbotsford & 4 & h & 1600000 & VB & Nelson & 4/06/2016 & 2.5 & 3067 & 3 & 1 & 2 & 120 & 142 & 2014 & Yarra & -37.8072 & 144.9941 & Northern Metropolitan & 4019\\\\\n",
       "\t Abbotsford & 2 & h &  941000 & S  & Jellis & 7/05/2016 & 2.5 & 3067 & 2 & 1 & 0 & 181 &  NA &   NA & Yarra & -37.8041 & 144.9953 & Northern Metropolitan & 4019\\\\\n",
       "\\end{tabular}\n"
      ],
      "text/markdown": [
       "\n",
       "A tibble: 6 × 20\n",
       "\n",
       "| Suburb &lt;chr&gt; | Rooms &lt;dbl&gt; | Type &lt;chr&gt; | Price &lt;dbl&gt; | Method &lt;chr&gt; | SellerG &lt;chr&gt; | Date &lt;chr&gt; | Distance &lt;dbl&gt; | Postcode &lt;dbl&gt; | Bedroom2 &lt;dbl&gt; | Bathroom &lt;dbl&gt; | Car &lt;dbl&gt; | Landsize &lt;dbl&gt; | BuildingArea &lt;dbl&gt; | YearBuilt &lt;dbl&gt; | CouncilArea &lt;chr&gt; | Lattitude &lt;dbl&gt; | Longtitude &lt;dbl&gt; | Regionname &lt;chr&gt; | Propertycount &lt;dbl&gt; |\n",
       "|---|---|---|---|---|---|---|---|---|---|---|---|---|---|---|---|---|---|---|---|\n",
       "| Abbotsford | 2 | h | 1480000 | S  | Biggin | 3/12/2016 | 2.5 | 3067 | 2 | 1 | 1 | 202 |  NA |   NA | Yarra | -37.7996 | 144.9984 | Northern Metropolitan | 4019 |\n",
       "| Abbotsford | 2 | h | 1035000 | S  | Biggin | 4/02/2016 | 2.5 | 3067 | 2 | 1 | 0 | 156 |  79 | 1900 | Yarra | -37.8079 | 144.9934 | Northern Metropolitan | 4019 |\n",
       "| Abbotsford | 3 | h | 1465000 | SP | Biggin | 4/03/2017 | 2.5 | 3067 | 3 | 2 | 0 | 134 | 150 | 1900 | Yarra | -37.8093 | 144.9944 | Northern Metropolitan | 4019 |\n",
       "| Abbotsford | 3 | h |  850000 | PI | Biggin | 4/03/2017 | 2.5 | 3067 | 3 | 2 | 1 |  94 |  NA |   NA | Yarra | -37.7969 | 144.9969 | Northern Metropolitan | 4019 |\n",
       "| Abbotsford | 4 | h | 1600000 | VB | Nelson | 4/06/2016 | 2.5 | 3067 | 3 | 1 | 2 | 120 | 142 | 2014 | Yarra | -37.8072 | 144.9941 | Northern Metropolitan | 4019 |\n",
       "| Abbotsford | 2 | h |  941000 | S  | Jellis | 7/05/2016 | 2.5 | 3067 | 2 | 1 | 0 | 181 |  NA |   NA | Yarra | -37.8041 | 144.9953 | Northern Metropolitan | 4019 |\n",
       "\n"
      ],
      "text/plain": [
       "  Suburb     Rooms Type Price   Method SellerG Date      Distance Postcode\n",
       "1 Abbotsford 2     h    1480000 S      Biggin  3/12/2016 2.5      3067    \n",
       "2 Abbotsford 2     h    1035000 S      Biggin  4/02/2016 2.5      3067    \n",
       "3 Abbotsford 3     h    1465000 SP     Biggin  4/03/2017 2.5      3067    \n",
       "4 Abbotsford 3     h     850000 PI     Biggin  4/03/2017 2.5      3067    \n",
       "5 Abbotsford 4     h    1600000 VB     Nelson  4/06/2016 2.5      3067    \n",
       "6 Abbotsford 2     h     941000 S      Jellis  7/05/2016 2.5      3067    \n",
       "  Bedroom2 Bathroom Car Landsize BuildingArea YearBuilt CouncilArea Lattitude\n",
       "1 2        1        1   202       NA            NA      Yarra       -37.7996 \n",
       "2 2        1        0   156       79          1900      Yarra       -37.8079 \n",
       "3 3        2        0   134      150          1900      Yarra       -37.8093 \n",
       "4 3        2        1    94       NA            NA      Yarra       -37.7969 \n",
       "5 3        1        2   120      142          2014      Yarra       -37.8072 \n",
       "6 2        1        0   181       NA            NA      Yarra       -37.8041 \n",
       "  Longtitude Regionname            Propertycount\n",
       "1 144.9984   Northern Metropolitan 4019         \n",
       "2 144.9934   Northern Metropolitan 4019         \n",
       "3 144.9944   Northern Metropolitan 4019         \n",
       "4 144.9969   Northern Metropolitan 4019         \n",
       "5 144.9941   Northern Metropolitan 4019         \n",
       "6 144.9953   Northern Metropolitan 4019         "
      ]
     },
     "metadata": {},
     "output_type": "display_data"
    }
   ],
   "source": [
    "# Reading Data by a relative path\n",
    "library(tidyverse)\n",
    "data <- read_csv(\"melb_data.csv\")\n",
    "data <- data[, -2]\n",
    "head(data)"
   ]
  },
  {
   "cell_type": "markdown",
   "id": "fdb4de28-7482-40ca-bddc-9f4630b3633d",
   "metadata": {},
   "source": [
    "#### Here is the table of summary of the tidy version of the data and we can see each mean, median and number of obeservations for the data."
   ]
  },
  {
   "cell_type": "code",
   "execution_count": 57,
   "id": "c2b1f66f-00be-4c9e-a1c7-31a17f742103",
   "metadata": {},
   "outputs": [
    {
     "data": {
      "text/plain": [
       "    Suburb              Rooms            Type               Price        \n",
       " Length:13580       Min.   : 1.000   Length:13580       Min.   :  85000  \n",
       " Class :character   1st Qu.: 2.000   Class :character   1st Qu.: 650000  \n",
       " Mode  :character   Median : 3.000   Mode  :character   Median : 903000  \n",
       "                    Mean   : 2.938                      Mean   :1075684  \n",
       "                    3rd Qu.: 3.000                      3rd Qu.:1330000  \n",
       "                    Max.   :10.000                      Max.   :9000000  \n",
       "                                                                         \n",
       "    Method            SellerG              Date              Distance    \n",
       " Length:13580       Length:13580       Length:13580       Min.   : 0.00  \n",
       " Class :character   Class :character   Class :character   1st Qu.: 6.10  \n",
       " Mode  :character   Mode  :character   Mode  :character   Median : 9.20  \n",
       "                                                          Mean   :10.14  \n",
       "                                                          3rd Qu.:13.00  \n",
       "                                                          Max.   :48.10  \n",
       "                                                                         \n",
       "    Postcode       Bedroom2         Bathroom          Car       \n",
       " Min.   :3000   Min.   : 0.000   Min.   :0.000   Min.   : 0.00  \n",
       " 1st Qu.:3044   1st Qu.: 2.000   1st Qu.:1.000   1st Qu.: 1.00  \n",
       " Median :3084   Median : 3.000   Median :1.000   Median : 2.00  \n",
       " Mean   :3105   Mean   : 2.915   Mean   :1.534   Mean   : 1.61  \n",
       " 3rd Qu.:3148   3rd Qu.: 3.000   3rd Qu.:2.000   3rd Qu.: 2.00  \n",
       " Max.   :3977   Max.   :20.000   Max.   :8.000   Max.   :10.00  \n",
       "                                                 NA's   :62     \n",
       "    Landsize         BuildingArea     YearBuilt    CouncilArea       \n",
       " Min.   :     0.0   Min.   :    0   Min.   :1196   Length:13580      \n",
       " 1st Qu.:   177.0   1st Qu.:   93   1st Qu.:1940   Class :character  \n",
       " Median :   440.0   Median :  126   Median :1970   Mode  :character  \n",
       " Mean   :   558.4   Mean   :  152   Mean   :1965                     \n",
       " 3rd Qu.:   651.0   3rd Qu.:  174   3rd Qu.:1999                     \n",
       " Max.   :433014.0   Max.   :44515   Max.   :2018                     \n",
       "                    NA's   :6450    NA's   :5375                     \n",
       "   Lattitude        Longtitude     Regionname        Propertycount  \n",
       " Min.   :-38.18   Min.   :144.4   Length:13580       Min.   :  249  \n",
       " 1st Qu.:-37.86   1st Qu.:144.9   Class :character   1st Qu.: 4380  \n",
       " Median :-37.80   Median :145.0   Mode  :character   Median : 6555  \n",
       " Mean   :-37.81   Mean   :145.0                      Mean   : 7454  \n",
       " 3rd Qu.:-37.76   3rd Qu.:145.1                      3rd Qu.:10331  \n",
       " Max.   :-37.41   Max.   :145.5                      Max.   :21650  \n",
       "                                                                    "
      ]
     },
     "metadata": {},
     "output_type": "display_data"
    }
   ],
   "source": [
    "summary(data)"
   ]
  },
  {
   "cell_type": "markdown",
   "id": "e140fb67-0884-46cb-b778-00bb1d582686",
   "metadata": {},
   "source": [
    "#### Here is a ggplot of regression line to show the relation between the Landsize and the Price from the data."
   ]
  },
  {
   "cell_type": "code",
   "execution_count": 64,
   "id": "0ff69e70-398b-4776-ba37-3c7871ea00f0",
   "metadata": {},
   "outputs": [
    {
     "data": {
      "image/png": "[encoded data removed]",
      "text/plain": [
       "plot without title"
      ]
     },
     "metadata": {
      "image/png": {
       "height": 420,
       "width": 420
      }
     },
     "output_type": "display_data"
    }
   ],
   "source": [
    "plot1 <- data |>\n",
    "         ggplot(aes(x = Landsize, y = Price))+\n",
    "         geom_line()+\n",
    "         labs(x = \"Land size\", y = \"Price in Dollars\")\n",
    "plot1"
   ]
  },
  {
   "cell_type": "markdown",
   "id": "80678150-1656-42c2-80c5-e8fdc622e6fb",
   "metadata": {},
   "source": [
    "## Methods\n",
    "### Cleaning Data\n",
    "We are going to do a regression model for this data and predict which variable would influence the housing price most. And we just choose Rooms， Distance， Bathroom， Landsize， Building Area, YearBuilt, Regionname，Propertycount from the data to do the prediction. And also we need to clean up the NA in the data set to help make the data be better."
   ]
  },
  {
   "cell_type": "code",
   "execution_count": 63,
   "id": "7015e4c8-cbcc-4b50-a41f-8a077ff706fc",
   "metadata": {},
   "outputs": [
    {
     "data": {
      "text/html": [
       "<table class=\"dataframe\">\n",
       "<caption>A tibble: 6 × 10</caption>\n",
       "<thead>\n",
       "\t<tr><th scope=col>Suburb</th><th scope=col>Rooms</th><th scope=col>Price</th><th scope=col>Distance</th><th scope=col>Bathroom</th><th scope=col>Landsize</th><th scope=col>BuildingArea</th><th scope=col>YearBuilt</th><th scope=col>Regionname</th><th scope=col>Propertycount</th></tr>\n",
       "\t<tr><th scope=col>&lt;chr&gt;</th><th scope=col>&lt;dbl&gt;</th><th scope=col>&lt;dbl&gt;</th><th scope=col>&lt;dbl&gt;</th><th scope=col>&lt;dbl&gt;</th><th scope=col>&lt;dbl&gt;</th><th scope=col>&lt;dbl&gt;</th><th scope=col>&lt;dbl&gt;</th><th scope=col>&lt;fct&gt;</th><th scope=col>&lt;dbl&gt;</th></tr>\n",
       "</thead>\n",
       "<tbody>\n",
       "\t<tr><td>Abbotsford</td><td>2</td><td>1035000</td><td>2.5</td><td>1</td><td>156</td><td> 79</td><td>1900</td><td>Northern Metropolitan</td><td>4019</td></tr>\n",
       "\t<tr><td>Abbotsford</td><td>3</td><td>1465000</td><td>2.5</td><td>2</td><td>134</td><td>150</td><td>1900</td><td>Northern Metropolitan</td><td>4019</td></tr>\n",
       "\t<tr><td>Abbotsford</td><td>4</td><td>1600000</td><td>2.5</td><td>1</td><td>120</td><td>142</td><td>2014</td><td>Northern Metropolitan</td><td>4019</td></tr>\n",
       "\t<tr><td>Abbotsford</td><td>3</td><td>1876000</td><td>2.5</td><td>2</td><td>245</td><td>210</td><td>1910</td><td>Northern Metropolitan</td><td>4019</td></tr>\n",
       "\t<tr><td>Abbotsford</td><td>2</td><td>1636000</td><td>2.5</td><td>1</td><td>256</td><td>107</td><td>1890</td><td>Northern Metropolitan</td><td>4019</td></tr>\n",
       "\t<tr><td>Abbotsford</td><td>2</td><td>1097000</td><td>2.5</td><td>1</td><td>220</td><td> 75</td><td>1900</td><td>Northern Metropolitan</td><td>4019</td></tr>\n",
       "</tbody>\n",
       "</table>\n"
      ],
      "text/latex": [
       "A tibble: 6 × 10\n",
       "\\begin{tabular}{llllllllll}\n",
       " Suburb & Rooms & Price & Distance & Bathroom & Landsize & BuildingArea & YearBuilt & Regionname & Propertycount\\\\\n",
       " <chr> & <dbl> & <dbl> & <dbl> & <dbl> & <dbl> & <dbl> & <dbl> & <fct> & <dbl>\\\\\n",
       "\\hline\n",
       "\t Abbotsford & 2 & 1035000 & 2.5 & 1 & 156 &  79 & 1900 & Northern Metropolitan & 4019\\\\\n",
       "\t Abbotsford & 3 & 1465000 & 2.5 & 2 & 134 & 150 & 1900 & Northern Metropolitan & 4019\\\\\n",
       "\t Abbotsford & 4 & 1600000 & 2.5 & 1 & 120 & 142 & 2014 & Northern Metropolitan & 4019\\\\\n",
       "\t Abbotsford & 3 & 1876000 & 2.5 & 2 & 245 & 210 & 1910 & Northern Metropolitan & 4019\\\\\n",
       "\t Abbotsford & 2 & 1636000 & 2.5 & 1 & 256 & 107 & 1890 & Northern Metropolitan & 4019\\\\\n",
       "\t Abbotsford & 2 & 1097000 & 2.5 & 1 & 220 &  75 & 1900 & Northern Metropolitan & 4019\\\\\n",
       "\\end{tabular}\n"
      ],
      "text/markdown": [
       "\n",
       "A tibble: 6 × 10\n",
       "\n",
       "| Suburb &lt;chr&gt; | Rooms &lt;dbl&gt; | Price &lt;dbl&gt; | Distance &lt;dbl&gt; | Bathroom &lt;dbl&gt; | Landsize &lt;dbl&gt; | BuildingArea &lt;dbl&gt; | YearBuilt &lt;dbl&gt; | Regionname &lt;fct&gt; | Propertycount &lt;dbl&gt; |\n",
       "|---|---|---|---|---|---|---|---|---|---|\n",
       "| Abbotsford | 2 | 1035000 | 2.5 | 1 | 156 |  79 | 1900 | Northern Metropolitan | 4019 |\n",
       "| Abbotsford | 3 | 1465000 | 2.5 | 2 | 134 | 150 | 1900 | Northern Metropolitan | 4019 |\n",
       "| Abbotsford | 4 | 1600000 | 2.5 | 1 | 120 | 142 | 2014 | Northern Metropolitan | 4019 |\n",
       "| Abbotsford | 3 | 1876000 | 2.5 | 2 | 245 | 210 | 1910 | Northern Metropolitan | 4019 |\n",
       "| Abbotsford | 2 | 1636000 | 2.5 | 1 | 256 | 107 | 1890 | Northern Metropolitan | 4019 |\n",
       "| Abbotsford | 2 | 1097000 | 2.5 | 1 | 220 |  75 | 1900 | Northern Metropolitan | 4019 |\n",
       "\n"
      ],
      "text/plain": [
       "  Suburb     Rooms Price   Distance Bathroom Landsize BuildingArea YearBuilt\n",
       "1 Abbotsford 2     1035000 2.5      1        156       79          1900     \n",
       "2 Abbotsford 3     1465000 2.5      2        134      150          1900     \n",
       "3 Abbotsford 4     1600000 2.5      1        120      142          2014     \n",
       "4 Abbotsford 3     1876000 2.5      2        245      210          1910     \n",
       "5 Abbotsford 2     1636000 2.5      1        256      107          1890     \n",
       "6 Abbotsford 2     1097000 2.5      1        220       75          1900     \n",
       "  Regionname            Propertycount\n",
       "1 Northern Metropolitan 4019         \n",
       "2 Northern Metropolitan 4019         \n",
       "3 Northern Metropolitan 4019         \n",
       "4 Northern Metropolitan 4019         \n",
       "5 Northern Metropolitan 4019         \n",
       "6 Northern Metropolitan 4019         "
      ]
     },
     "metadata": {},
     "output_type": "display_data"
    }
   ],
   "source": [
    "# Cleaning Data\n",
    "data <- data |>\n",
    "        mutate(Regionname = as_factor(Regionname))\n",
    "data_fv <- data |>\n",
    "            select(Suburb, Rooms, Price, Distance, Bathroom, Landsize, BuildingArea, YearBuilt, Regionname, Propertycount)|>\n",
    "            na.omit()\n",
    "\n",
    "head(data_fv)     "
   ]
  },
  {
   "cell_type": "markdown",
   "id": "8e122e4e-d6ff-476a-b629-b7dc10fb1923",
   "metadata": {},
   "source": [
    "And for the visulization, we are going to use the ggplot to show the regression line of each predictor with the response variables. By this way, we can clarify the relationship between each predictor and response variables and determine which predictor would be the one has most influence to the response variable."
   ]
  },
  {
   "cell_type": "markdown",
   "id": "63f0ba81-b8c3-401c-b403-dd6691fb904e",
   "metadata": {},
   "source": [
    "## Expected outcomes and significance"
   ]
  },
  {
   "cell_type": "markdown",
   "id": "5df784cd-6906-4345-9b02-47047932c9f5",
   "metadata": {},
   "source": [
    "We expect to find that the majority of houses are properly valued. The properties that have a predicted price above their actual market price are possibly undervalued and thus could be potential investments. There are too many unknown variables such as the state of the property, the surroundings, its access to services such as electricity, water, sewage that our data does not contain so we cannot say for certain that a property is worth the investment. However, at the very least it will cut down on the time wasted viewing properties that are considerably overpriced. Due to the time and money constraints, there are still many other variables we have not considered in our model, so this may make our model not very accurate. This leads us to wonder what truly are these other variables that we have not accounted for.\n"
   ]
  },
  {
   "cell_type": "code",
   "execution_count": null,
   "id": "33021807-12ca-432b-b8e2-bb028a08d32e",
   "metadata": {},
   "outputs": [],
   "source": []
  }
 ],
 "metadata": {
  "kernelspec": {
   "display_name": "R",
   "language": "R",
   "name": "ir"
  },
  "language_info": {
   "codemirror_mode": "r",
   "file_extension": ".r",
   "mimetype": "text/x-r-source",
   "name": "R",
   "pygments_lexer": "r",
   "version": "4.3.0"
  }
 },
 "nbformat": 4,
 "nbformat_minor": 5
}
