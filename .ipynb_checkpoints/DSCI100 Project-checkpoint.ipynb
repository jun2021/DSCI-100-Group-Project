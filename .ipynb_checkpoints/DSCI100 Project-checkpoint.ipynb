{
 "cells": [
  {
   "cell_type": "markdown",
   "id": "6a1ce8e4-dafb-4a4b-bfbd-ca9302793341",
   "metadata": {},
   "source": [
    "# Project !!!!!! Jun Create this !!!\n",
    "# TRY A NEW ONE"
   ]
  },
  {
   "cell_type": "code",
   "execution_count": null,
   "id": "5b77d8d2-5fbd-4b77-8296-c2b59e7093fe",
   "metadata": {},
   "outputs": [],
   "source": [
    "This is cool"
   ]
  }
 ],
 "metadata": {
  "kernelspec": {
   "display_name": "R",
   "language": "R",
   "name": "ir"
  },
  "language_info": {
   "codemirror_mode": "r",
   "file_extension": ".r",
   "mimetype": "text/x-r-source",
   "name": "R",
   "pygments_lexer": "r",
   "version": "4.2.2"
  }
 },
 "nbformat": 4,
 "nbformat_minor": 5
}
