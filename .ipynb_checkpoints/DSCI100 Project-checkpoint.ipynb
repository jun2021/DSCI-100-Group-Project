{
 "cells": [
  {
   "cell_type": "code",
   "execution_count": 3,
   "id": "bfd00ead-eea5-4704-9187-c8448e569b82",
   "metadata": {
    "tags": []
   },
   "outputs": [
    {
     "name": "stderr",
     "output_type": "stream",
     "text": [
      "Updating HTML index of packages in '.Library'\n",
      "\n",
      "Making 'packages.html' ...\n",
      " done\n",
      "\n",
      "Updating HTML index of packages in '.Library'\n",
      "\n",
      "Making 'packages.html' ...\n",
      " done\n",
      "\n"
     ]
    }
   ],
   "source": [
    "# library\n",
    "library(tidyverse)\n",
    "library(repr)\n",
    "library(tidymodels)\n",
    "install.packages(\"GGally\")\n",
    "library(GGally)\n",
    "install.packages(\"ISLR\")\n",
    "library(ISLR)\n",
    "options(repr.matrix.max.rows = 6)\n",
    "#source(\"tests.R\")\n",
    "#source(\"cleanup.R\")"
   ]
  },
  {
   "cell_type": "markdown",
   "id": "6a1ce8e4-dafb-4a4b-bfbd-ca9302793341",
   "metadata": {},
   "source": [
    "# Finding investment properties in Melbourne\n",
    "##### Name: Jun Zheng /\n",
    "##### Student Number: 10827335 /"
   ]
  },
  {
   "cell_type": "markdown",
   "id": "57a84c75-d7d1-4ed4-990e-25e7f40737ab",
   "metadata": {},
   "source": [
    "# 1.Introduction\n",
    "In recent years, global housing prices have been experiencing different changes in response to the market. In Melbourne, housing prices are also generating fluctuations and generating a lot of discussion. Known for its diversity and cultural scene, Melbourne has also been a popular property market that attracts investors from all over the world, and thus Melbourne's house prices have been stimulating interest in research. In this project, we will focus on Melbourne's house prices, hoping to create a model that can predict house prices more accurately. Along with information on a number of influencing factors, we will be able to answer the question, \"What homes in Melbourne are undervalued or overvalued?\". The crux of the question is to determine if the property is worth investing in. To answer this question, we will use the Melbourne Housing Dataset. In this dataset we have 21 variables and we want to select 8 of them as the main influencing factors. We will use the corr() method to select these 8 factors, which will be the major determinants of house prices, so we will select these 8 factors to model and predict whether different houses in Melbourne are worth buying at different house prices.\n",
    "\n"
   ]
  },
  {
   "cell_type": "markdown",
   "id": "678809b2-884b-4eed-997b-253dbbae6256",
   "metadata": {},
   "source": [
    "# 2.Data Analysis"
   ]
  },
  {
   "cell_type": "markdown",
   "id": "34d35c2f-87ac-4f9f-867b-6e1a9eda38bc",
   "metadata": {},
   "source": [
    "## 2.1 Cleaning Data"
   ]
  },
  {
   "cell_type": "markdown",
   "id": "0cd7617c-0cf9-4575-b2b4-9e324a6ebc8c",
   "metadata": {},
   "source": [
    "### 2.1.1 Data Information\n",
    "`Rooms`: Number of rooms\n",
    "\n",
    "`Price`: Price in dollars\n",
    "\n",
    "`Method`: S - property sold; SP - property sold prior; PI - property passed in; PN - sold prior not disclosed; SN - sold not disclosed; NB - no bid; VB - vendor bid; W - withdrawn prior to auction; SA - sold after auction; SS - sold after auction price not disclosed. N/A - price or highest bid not available.\n",
    "\n",
    "`Type`: br - bedroom(s); h - house,cottage,villa, semi,terrace; u - unit, duplex; t - townhouse; dev site - development site; o res - other residential.\n",
    "\n",
    "`SellerG`: Real Estate Agent\n",
    "\n",
    "`Date`: Date sold\n",
    "\n",
    "`Distance`: Distance from CBD\n",
    "\n",
    "`Regionname`: General Region (West, North West, North, North east …etc)\n",
    "\n",
    "`Propertycount`: Number of properties that exist in the suburb.\n",
    "\n",
    "`Bedroom2` : Scraped # of Bedrooms (from different source)\n",
    "\n",
    "`Bathroom`: Number of Bathrooms\n",
    "\n",
    "`Car`: Number of carspots\n",
    "\n",
    "`Landsize`: Land Size\n",
    "\n",
    "`BuildingArea`: Building Size\n",
    "\n",
    "`CouncilArea`: Governing council for the area"
   ]
  },
  {
   "cell_type": "markdown",
   "id": "787bc7e9-c2b1-49e0-b14e-5c5ae98d9560",
   "metadata": {},
   "source": [
    "### 2.1.2 Reading Data"
   ]
  },
  {
   "cell_type": "code",
   "execution_count": 4,
   "id": "e5840619-055b-4c61-bf2e-43fa28e3de72",
   "metadata": {
    "tags": []
   },
   "outputs": [
    {
     "name": "stderr",
     "output_type": "stream",
     "text": [
      "\u001b[1mRows: \u001b[22m\u001b[34m13580\u001b[39m \u001b[1mColumns: \u001b[22m\u001b[34m21\u001b[39m\n",
      "\u001b[36m──\u001b[39m \u001b[1mColumn specification\u001b[22m \u001b[36m────────────────────────────────────────────────────────\u001b[39m\n",
      "\u001b[1mDelimiter:\u001b[22m \",\"\n",
      "\u001b[31mchr\u001b[39m  (8): Suburb, Address, Type, Method, SellerG, Date, CouncilArea, Regionname\n",
      "\u001b[32mdbl\u001b[39m (13): Rooms, Price, Distance, Postcode, Bedroom2, Bathroom, Car, Landsiz...\n",
      "\n",
      "\u001b[36mℹ\u001b[39m Use `spec()` to retrieve the full column specification for this data.\n",
      "\u001b[36mℹ\u001b[39m Specify the column types or set `show_col_types = FALSE` to quiet this message.\n"
     ]
    },
    {
     "data": {
      "text/html": [
       "<table class=\"dataframe\">\n",
       "<caption>A tibble: 6 × 21</caption>\n",
       "<thead>\n",
       "\t<tr><th scope=col>Suburb</th><th scope=col>Address</th><th scope=col>Rooms</th><th scope=col>Type</th><th scope=col>Price</th><th scope=col>Method</th><th scope=col>SellerG</th><th scope=col>Date</th><th scope=col>Distance</th><th scope=col>Postcode</th><th scope=col>⋯</th><th scope=col>Bathroom</th><th scope=col>Car</th><th scope=col>Landsize</th><th scope=col>BuildingArea</th><th scope=col>YearBuilt</th><th scope=col>CouncilArea</th><th scope=col>Lattitude</th><th scope=col>Longtitude</th><th scope=col>Regionname</th><th scope=col>Propertycount</th></tr>\n",
       "\t<tr><th scope=col>&lt;chr&gt;</th><th scope=col>&lt;chr&gt;</th><th scope=col>&lt;dbl&gt;</th><th scope=col>&lt;chr&gt;</th><th scope=col>&lt;dbl&gt;</th><th scope=col>&lt;chr&gt;</th><th scope=col>&lt;chr&gt;</th><th scope=col>&lt;chr&gt;</th><th scope=col>&lt;dbl&gt;</th><th scope=col>&lt;dbl&gt;</th><th scope=col>⋯</th><th scope=col>&lt;dbl&gt;</th><th scope=col>&lt;dbl&gt;</th><th scope=col>&lt;dbl&gt;</th><th scope=col>&lt;dbl&gt;</th><th scope=col>&lt;dbl&gt;</th><th scope=col>&lt;chr&gt;</th><th scope=col>&lt;dbl&gt;</th><th scope=col>&lt;dbl&gt;</th><th scope=col>&lt;chr&gt;</th><th scope=col>&lt;dbl&gt;</th></tr>\n",
       "</thead>\n",
       "<tbody>\n",
       "\t<tr><td>Abbotsford</td><td>85 Turner St    </td><td>2</td><td>h</td><td>1480000</td><td>S </td><td>Biggin</td><td>3/12/2016</td><td>2.5</td><td>3067</td><td>⋯</td><td>1</td><td>1</td><td>202</td><td> NA</td><td>  NA</td><td>Yarra</td><td>-37.7996</td><td>144.9984</td><td>Northern Metropolitan</td><td>4019</td></tr>\n",
       "\t<tr><td>Abbotsford</td><td>25 Bloomburg St </td><td>2</td><td>h</td><td>1035000</td><td>S </td><td>Biggin</td><td>4/02/2016</td><td>2.5</td><td>3067</td><td>⋯</td><td>1</td><td>0</td><td>156</td><td> 79</td><td>1900</td><td>Yarra</td><td>-37.8079</td><td>144.9934</td><td>Northern Metropolitan</td><td>4019</td></tr>\n",
       "\t<tr><td>Abbotsford</td><td>5 Charles St    </td><td>3</td><td>h</td><td>1465000</td><td>SP</td><td>Biggin</td><td>4/03/2017</td><td>2.5</td><td>3067</td><td>⋯</td><td>2</td><td>0</td><td>134</td><td>150</td><td>1900</td><td>Yarra</td><td>-37.8093</td><td>144.9944</td><td>Northern Metropolitan</td><td>4019</td></tr>\n",
       "\t<tr><td>Abbotsford</td><td>40 Federation La</td><td>3</td><td>h</td><td> 850000</td><td>PI</td><td>Biggin</td><td>4/03/2017</td><td>2.5</td><td>3067</td><td>⋯</td><td>2</td><td>1</td><td> 94</td><td> NA</td><td>  NA</td><td>Yarra</td><td>-37.7969</td><td>144.9969</td><td>Northern Metropolitan</td><td>4019</td></tr>\n",
       "\t<tr><td>Abbotsford</td><td>55a Park St     </td><td>4</td><td>h</td><td>1600000</td><td>VB</td><td>Nelson</td><td>4/06/2016</td><td>2.5</td><td>3067</td><td>⋯</td><td>1</td><td>2</td><td>120</td><td>142</td><td>2014</td><td>Yarra</td><td>-37.8072</td><td>144.9941</td><td>Northern Metropolitan</td><td>4019</td></tr>\n",
       "\t<tr><td>Abbotsford</td><td>129 Charles St  </td><td>2</td><td>h</td><td> 941000</td><td>S </td><td>Jellis</td><td>7/05/2016</td><td>2.5</td><td>3067</td><td>⋯</td><td>1</td><td>0</td><td>181</td><td> NA</td><td>  NA</td><td>Yarra</td><td>-37.8041</td><td>144.9953</td><td>Northern Metropolitan</td><td>4019</td></tr>\n",
       "</tbody>\n",
       "</table>\n"
      ],
      "text/latex": [
       "A tibble: 6 × 21\n",
       "\\begin{tabular}{lllllllllllllllllllll}\n",
       " Suburb & Address & Rooms & Type & Price & Method & SellerG & Date & Distance & Postcode & ⋯ & Bathroom & Car & Landsize & BuildingArea & YearBuilt & CouncilArea & Lattitude & Longtitude & Regionname & Propertycount\\\\\n",
       " <chr> & <chr> & <dbl> & <chr> & <dbl> & <chr> & <chr> & <chr> & <dbl> & <dbl> & ⋯ & <dbl> & <dbl> & <dbl> & <dbl> & <dbl> & <chr> & <dbl> & <dbl> & <chr> & <dbl>\\\\\n",
       "\\hline\n",
       "\t Abbotsford & 85 Turner St     & 2 & h & 1480000 & S  & Biggin & 3/12/2016 & 2.5 & 3067 & ⋯ & 1 & 1 & 202 &  NA &   NA & Yarra & -37.7996 & 144.9984 & Northern Metropolitan & 4019\\\\\n",
       "\t Abbotsford & 25 Bloomburg St  & 2 & h & 1035000 & S  & Biggin & 4/02/2016 & 2.5 & 3067 & ⋯ & 1 & 0 & 156 &  79 & 1900 & Yarra & -37.8079 & 144.9934 & Northern Metropolitan & 4019\\\\\n",
       "\t Abbotsford & 5 Charles St     & 3 & h & 1465000 & SP & Biggin & 4/03/2017 & 2.5 & 3067 & ⋯ & 2 & 0 & 134 & 150 & 1900 & Yarra & -37.8093 & 144.9944 & Northern Metropolitan & 4019\\\\\n",
       "\t Abbotsford & 40 Federation La & 3 & h &  850000 & PI & Biggin & 4/03/2017 & 2.5 & 3067 & ⋯ & 2 & 1 &  94 &  NA &   NA & Yarra & -37.7969 & 144.9969 & Northern Metropolitan & 4019\\\\\n",
       "\t Abbotsford & 55a Park St      & 4 & h & 1600000 & VB & Nelson & 4/06/2016 & 2.5 & 3067 & ⋯ & 1 & 2 & 120 & 142 & 2014 & Yarra & -37.8072 & 144.9941 & Northern Metropolitan & 4019\\\\\n",
       "\t Abbotsford & 129 Charles St   & 2 & h &  941000 & S  & Jellis & 7/05/2016 & 2.5 & 3067 & ⋯ & 1 & 0 & 181 &  NA &   NA & Yarra & -37.8041 & 144.9953 & Northern Metropolitan & 4019\\\\\n",
       "\\end{tabular}\n"
      ],
      "text/markdown": [
       "\n",
       "A tibble: 6 × 21\n",
       "\n",
       "| Suburb &lt;chr&gt; | Address &lt;chr&gt; | Rooms &lt;dbl&gt; | Type &lt;chr&gt; | Price &lt;dbl&gt; | Method &lt;chr&gt; | SellerG &lt;chr&gt; | Date &lt;chr&gt; | Distance &lt;dbl&gt; | Postcode &lt;dbl&gt; | ⋯ ⋯ | Bathroom &lt;dbl&gt; | Car &lt;dbl&gt; | Landsize &lt;dbl&gt; | BuildingArea &lt;dbl&gt; | YearBuilt &lt;dbl&gt; | CouncilArea &lt;chr&gt; | Lattitude &lt;dbl&gt; | Longtitude &lt;dbl&gt; | Regionname &lt;chr&gt; | Propertycount &lt;dbl&gt; |\n",
       "|---|---|---|---|---|---|---|---|---|---|---|---|---|---|---|---|---|---|---|---|---|\n",
       "| Abbotsford | 85 Turner St     | 2 | h | 1480000 | S  | Biggin | 3/12/2016 | 2.5 | 3067 | ⋯ | 1 | 1 | 202 |  NA |   NA | Yarra | -37.7996 | 144.9984 | Northern Metropolitan | 4019 |\n",
       "| Abbotsford | 25 Bloomburg St  | 2 | h | 1035000 | S  | Biggin | 4/02/2016 | 2.5 | 3067 | ⋯ | 1 | 0 | 156 |  79 | 1900 | Yarra | -37.8079 | 144.9934 | Northern Metropolitan | 4019 |\n",
       "| Abbotsford | 5 Charles St     | 3 | h | 1465000 | SP | Biggin | 4/03/2017 | 2.5 | 3067 | ⋯ | 2 | 0 | 134 | 150 | 1900 | Yarra | -37.8093 | 144.9944 | Northern Metropolitan | 4019 |\n",
       "| Abbotsford | 40 Federation La | 3 | h |  850000 | PI | Biggin | 4/03/2017 | 2.5 | 3067 | ⋯ | 2 | 1 |  94 |  NA |   NA | Yarra | -37.7969 | 144.9969 | Northern Metropolitan | 4019 |\n",
       "| Abbotsford | 55a Park St      | 4 | h | 1600000 | VB | Nelson | 4/06/2016 | 2.5 | 3067 | ⋯ | 1 | 2 | 120 | 142 | 2014 | Yarra | -37.8072 | 144.9941 | Northern Metropolitan | 4019 |\n",
       "| Abbotsford | 129 Charles St   | 2 | h |  941000 | S  | Jellis | 7/05/2016 | 2.5 | 3067 | ⋯ | 1 | 0 | 181 |  NA |   NA | Yarra | -37.8041 | 144.9953 | Northern Metropolitan | 4019 |\n",
       "\n"
      ],
      "text/plain": [
       "  Suburb     Address          Rooms Type Price   Method SellerG Date     \n",
       "1 Abbotsford 85 Turner St     2     h    1480000 S      Biggin  3/12/2016\n",
       "2 Abbotsford 25 Bloomburg St  2     h    1035000 S      Biggin  4/02/2016\n",
       "3 Abbotsford 5 Charles St     3     h    1465000 SP     Biggin  4/03/2017\n",
       "4 Abbotsford 40 Federation La 3     h     850000 PI     Biggin  4/03/2017\n",
       "5 Abbotsford 55a Park St      4     h    1600000 VB     Nelson  4/06/2016\n",
       "6 Abbotsford 129 Charles St   2     h     941000 S      Jellis  7/05/2016\n",
       "  Distance Postcode ⋯ Bathroom Car Landsize BuildingArea YearBuilt CouncilArea\n",
       "1 2.5      3067     ⋯ 1        1   202       NA            NA      Yarra      \n",
       "2 2.5      3067     ⋯ 1        0   156       79          1900      Yarra      \n",
       "3 2.5      3067     ⋯ 2        0   134      150          1900      Yarra      \n",
       "4 2.5      3067     ⋯ 2        1    94       NA            NA      Yarra      \n",
       "5 2.5      3067     ⋯ 1        2   120      142          2014      Yarra      \n",
       "6 2.5      3067     ⋯ 1        0   181       NA            NA      Yarra      \n",
       "  Lattitude Longtitude Regionname            Propertycount\n",
       "1 -37.7996  144.9984   Northern Metropolitan 4019         \n",
       "2 -37.8079  144.9934   Northern Metropolitan 4019         \n",
       "3 -37.8093  144.9944   Northern Metropolitan 4019         \n",
       "4 -37.7969  144.9969   Northern Metropolitan 4019         \n",
       "5 -37.8072  144.9941   Northern Metropolitan 4019         \n",
       "6 -37.8041  144.9953   Northern Metropolitan 4019         "
      ]
     },
     "metadata": {},
     "output_type": "display_data"
    }
   ],
   "source": [
    "library(tidyverse)\n",
    "housing_data<- read_csv(\"https://raw.githubusercontent.com/jun2021/DSCI-100-Group-Project/main/melb_data.csv\")\n",
    "head(housing_data)"
   ]
  },
  {
   "cell_type": "markdown",
   "id": "1a230bad-6db8-4b89-bea4-c66f07b63228",
   "metadata": {},
   "source": [
    "### 2.1.3 Selecting Main Vectors"
   ]
  },
  {
   "cell_type": "code",
   "execution_count": 5,
   "id": "3568190e-5f07-4036-a881-4155fa6c5d26",
   "metadata": {
    "tags": []
   },
   "outputs": [
    {
     "data": {
      "text/html": [
       "<table class=\"dataframe\">\n",
       "<caption>A tibble: 6 × 21</caption>\n",
       "<thead>\n",
       "\t<tr><th scope=col>Suburb</th><th scope=col>Address</th><th scope=col>Rooms</th><th scope=col>Type</th><th scope=col>Price</th><th scope=col>Method</th><th scope=col>SellerG</th><th scope=col>Date</th><th scope=col>Distance</th><th scope=col>Postcode</th><th scope=col>⋯</th><th scope=col>Bathroom</th><th scope=col>Car</th><th scope=col>Landsize</th><th scope=col>BuildingArea</th><th scope=col>YearBuilt</th><th scope=col>CouncilArea</th><th scope=col>Lattitude</th><th scope=col>Longtitude</th><th scope=col>Regionname</th><th scope=col>Propertycount</th></tr>\n",
       "\t<tr><th scope=col>&lt;chr&gt;</th><th scope=col>&lt;chr&gt;</th><th scope=col>&lt;dbl&gt;</th><th scope=col>&lt;chr&gt;</th><th scope=col>&lt;dbl&gt;</th><th scope=col>&lt;chr&gt;</th><th scope=col>&lt;chr&gt;</th><th scope=col>&lt;chr&gt;</th><th scope=col>&lt;dbl&gt;</th><th scope=col>&lt;dbl&gt;</th><th scope=col>⋯</th><th scope=col>&lt;dbl&gt;</th><th scope=col>&lt;dbl&gt;</th><th scope=col>&lt;dbl&gt;</th><th scope=col>&lt;dbl&gt;</th><th scope=col>&lt;dbl&gt;</th><th scope=col>&lt;chr&gt;</th><th scope=col>&lt;dbl&gt;</th><th scope=col>&lt;dbl&gt;</th><th scope=col>&lt;chr&gt;</th><th scope=col>&lt;dbl&gt;</th></tr>\n",
       "</thead>\n",
       "<tbody>\n",
       "\t<tr><td>Abbotsford</td><td>25 Bloomburg St</td><td>2</td><td>h</td><td>1035000</td><td>S </td><td>Biggin</td><td>4/02/2016</td><td>2.5</td><td>3067</td><td>⋯</td><td>1</td><td>0</td><td>156</td><td> 79</td><td>1900</td><td>Yarra</td><td>-37.8079</td><td>144.9934</td><td>Northern Metropolitan</td><td>4019</td></tr>\n",
       "\t<tr><td>Abbotsford</td><td>5 Charles St   </td><td>3</td><td>h</td><td>1465000</td><td>SP</td><td>Biggin</td><td>4/03/2017</td><td>2.5</td><td>3067</td><td>⋯</td><td>2</td><td>0</td><td>134</td><td>150</td><td>1900</td><td>Yarra</td><td>-37.8093</td><td>144.9944</td><td>Northern Metropolitan</td><td>4019</td></tr>\n",
       "\t<tr><td>Abbotsford</td><td>55a Park St    </td><td>4</td><td>h</td><td>1600000</td><td>VB</td><td>Nelson</td><td>4/06/2016</td><td>2.5</td><td>3067</td><td>⋯</td><td>1</td><td>2</td><td>120</td><td>142</td><td>2014</td><td>Yarra</td><td>-37.8072</td><td>144.9941</td><td>Northern Metropolitan</td><td>4019</td></tr>\n",
       "\t<tr><td>Abbotsford</td><td>124 Yarra St   </td><td>3</td><td>h</td><td>1876000</td><td>S </td><td>Nelson</td><td>7/05/2016</td><td>2.5</td><td>3067</td><td>⋯</td><td>2</td><td>0</td><td>245</td><td>210</td><td>1910</td><td>Yarra</td><td>-37.8024</td><td>144.9993</td><td>Northern Metropolitan</td><td>4019</td></tr>\n",
       "\t<tr><td>Abbotsford</td><td>98 Charles St  </td><td>2</td><td>h</td><td>1636000</td><td>S </td><td>Nelson</td><td>8/10/2016</td><td>2.5</td><td>3067</td><td>⋯</td><td>1</td><td>2</td><td>256</td><td>107</td><td>1890</td><td>Yarra</td><td>-37.8060</td><td>144.9954</td><td>Northern Metropolitan</td><td>4019</td></tr>\n",
       "\t<tr><td>Abbotsford</td><td>10 Valiant St  </td><td>2</td><td>h</td><td>1097000</td><td>S </td><td>Biggin</td><td>8/10/2016</td><td>2.5</td><td>3067</td><td>⋯</td><td>1</td><td>2</td><td>220</td><td> 75</td><td>1900</td><td>Yarra</td><td>-37.8010</td><td>144.9989</td><td>Northern Metropolitan</td><td>4019</td></tr>\n",
       "</tbody>\n",
       "</table>\n"
      ],
      "text/latex": [
       "A tibble: 6 × 21\n",
       "\\begin{tabular}{lllllllllllllllllllll}\n",
       " Suburb & Address & Rooms & Type & Price & Method & SellerG & Date & Distance & Postcode & ⋯ & Bathroom & Car & Landsize & BuildingArea & YearBuilt & CouncilArea & Lattitude & Longtitude & Regionname & Propertycount\\\\\n",
       " <chr> & <chr> & <dbl> & <chr> & <dbl> & <chr> & <chr> & <chr> & <dbl> & <dbl> & ⋯ & <dbl> & <dbl> & <dbl> & <dbl> & <dbl> & <chr> & <dbl> & <dbl> & <chr> & <dbl>\\\\\n",
       "\\hline\n",
       "\t Abbotsford & 25 Bloomburg St & 2 & h & 1035000 & S  & Biggin & 4/02/2016 & 2.5 & 3067 & ⋯ & 1 & 0 & 156 &  79 & 1900 & Yarra & -37.8079 & 144.9934 & Northern Metropolitan & 4019\\\\\n",
       "\t Abbotsford & 5 Charles St    & 3 & h & 1465000 & SP & Biggin & 4/03/2017 & 2.5 & 3067 & ⋯ & 2 & 0 & 134 & 150 & 1900 & Yarra & -37.8093 & 144.9944 & Northern Metropolitan & 4019\\\\\n",
       "\t Abbotsford & 55a Park St     & 4 & h & 1600000 & VB & Nelson & 4/06/2016 & 2.5 & 3067 & ⋯ & 1 & 2 & 120 & 142 & 2014 & Yarra & -37.8072 & 144.9941 & Northern Metropolitan & 4019\\\\\n",
       "\t Abbotsford & 124 Yarra St    & 3 & h & 1876000 & S  & Nelson & 7/05/2016 & 2.5 & 3067 & ⋯ & 2 & 0 & 245 & 210 & 1910 & Yarra & -37.8024 & 144.9993 & Northern Metropolitan & 4019\\\\\n",
       "\t Abbotsford & 98 Charles St   & 2 & h & 1636000 & S  & Nelson & 8/10/2016 & 2.5 & 3067 & ⋯ & 1 & 2 & 256 & 107 & 1890 & Yarra & -37.8060 & 144.9954 & Northern Metropolitan & 4019\\\\\n",
       "\t Abbotsford & 10 Valiant St   & 2 & h & 1097000 & S  & Biggin & 8/10/2016 & 2.5 & 3067 & ⋯ & 1 & 2 & 220 &  75 & 1900 & Yarra & -37.8010 & 144.9989 & Northern Metropolitan & 4019\\\\\n",
       "\\end{tabular}\n"
      ],
      "text/markdown": [
       "\n",
       "A tibble: 6 × 21\n",
       "\n",
       "| Suburb &lt;chr&gt; | Address &lt;chr&gt; | Rooms &lt;dbl&gt; | Type &lt;chr&gt; | Price &lt;dbl&gt; | Method &lt;chr&gt; | SellerG &lt;chr&gt; | Date &lt;chr&gt; | Distance &lt;dbl&gt; | Postcode &lt;dbl&gt; | ⋯ ⋯ | Bathroom &lt;dbl&gt; | Car &lt;dbl&gt; | Landsize &lt;dbl&gt; | BuildingArea &lt;dbl&gt; | YearBuilt &lt;dbl&gt; | CouncilArea &lt;chr&gt; | Lattitude &lt;dbl&gt; | Longtitude &lt;dbl&gt; | Regionname &lt;chr&gt; | Propertycount &lt;dbl&gt; |\n",
       "|---|---|---|---|---|---|---|---|---|---|---|---|---|---|---|---|---|---|---|---|---|\n",
       "| Abbotsford | 25 Bloomburg St | 2 | h | 1035000 | S  | Biggin | 4/02/2016 | 2.5 | 3067 | ⋯ | 1 | 0 | 156 |  79 | 1900 | Yarra | -37.8079 | 144.9934 | Northern Metropolitan | 4019 |\n",
       "| Abbotsford | 5 Charles St    | 3 | h | 1465000 | SP | Biggin | 4/03/2017 | 2.5 | 3067 | ⋯ | 2 | 0 | 134 | 150 | 1900 | Yarra | -37.8093 | 144.9944 | Northern Metropolitan | 4019 |\n",
       "| Abbotsford | 55a Park St     | 4 | h | 1600000 | VB | Nelson | 4/06/2016 | 2.5 | 3067 | ⋯ | 1 | 2 | 120 | 142 | 2014 | Yarra | -37.8072 | 144.9941 | Northern Metropolitan | 4019 |\n",
       "| Abbotsford | 124 Yarra St    | 3 | h | 1876000 | S  | Nelson | 7/05/2016 | 2.5 | 3067 | ⋯ | 2 | 0 | 245 | 210 | 1910 | Yarra | -37.8024 | 144.9993 | Northern Metropolitan | 4019 |\n",
       "| Abbotsford | 98 Charles St   | 2 | h | 1636000 | S  | Nelson | 8/10/2016 | 2.5 | 3067 | ⋯ | 1 | 2 | 256 | 107 | 1890 | Yarra | -37.8060 | 144.9954 | Northern Metropolitan | 4019 |\n",
       "| Abbotsford | 10 Valiant St   | 2 | h | 1097000 | S  | Biggin | 8/10/2016 | 2.5 | 3067 | ⋯ | 1 | 2 | 220 |  75 | 1900 | Yarra | -37.8010 | 144.9989 | Northern Metropolitan | 4019 |\n",
       "\n"
      ],
      "text/plain": [
       "  Suburb     Address         Rooms Type Price   Method SellerG Date     \n",
       "1 Abbotsford 25 Bloomburg St 2     h    1035000 S      Biggin  4/02/2016\n",
       "2 Abbotsford 5 Charles St    3     h    1465000 SP     Biggin  4/03/2017\n",
       "3 Abbotsford 55a Park St     4     h    1600000 VB     Nelson  4/06/2016\n",
       "4 Abbotsford 124 Yarra St    3     h    1876000 S      Nelson  7/05/2016\n",
       "5 Abbotsford 98 Charles St   2     h    1636000 S      Nelson  8/10/2016\n",
       "6 Abbotsford 10 Valiant St   2     h    1097000 S      Biggin  8/10/2016\n",
       "  Distance Postcode ⋯ Bathroom Car Landsize BuildingArea YearBuilt CouncilArea\n",
       "1 2.5      3067     ⋯ 1        0   156       79          1900      Yarra      \n",
       "2 2.5      3067     ⋯ 2        0   134      150          1900      Yarra      \n",
       "3 2.5      3067     ⋯ 1        2   120      142          2014      Yarra      \n",
       "4 2.5      3067     ⋯ 2        0   245      210          1910      Yarra      \n",
       "5 2.5      3067     ⋯ 1        2   256      107          1890      Yarra      \n",
       "6 2.5      3067     ⋯ 1        2   220       75          1900      Yarra      \n",
       "  Lattitude Longtitude Regionname            Propertycount\n",
       "1 -37.8079  144.9934   Northern Metropolitan 4019         \n",
       "2 -37.8093  144.9944   Northern Metropolitan 4019         \n",
       "3 -37.8072  144.9941   Northern Metropolitan 4019         \n",
       "4 -37.8024  144.9993   Northern Metropolitan 4019         \n",
       "5 -37.8060  144.9954   Northern Metropolitan 4019         \n",
       "6 -37.8010  144.9989   Northern Metropolitan 4019         "
      ]
     },
     "metadata": {},
     "output_type": "display_data"
    }
   ],
   "source": [
    "# Clean the rows have NA\n",
    "housing_data <- housing_data |> \n",
    "                na.omit()\n",
    "head(housing_data)"
   ]
  },
  {
   "cell_type": "markdown",
   "id": "ce1ed32a-eec9-41ac-bc3d-d634871d9e82",
   "metadata": {},
   "source": [
    "Also, We need the numeric data in the dataframe be a parameter to do the estimate of the Price of the house in Melbourne, so that, we need to select the columns which have numeric and do the correlation plot to see which numeric factors we want to do the estimate."
   ]
  },
  {
   "cell_type": "code",
   "execution_count": 6,
   "id": "83c35983-b033-46a5-a75c-3428a9ea1108",
   "metadata": {
    "tags": []
   },
   "outputs": [
    {
     "data": {
      "text/html": [
       "<table class=\"dataframe\">\n",
       "<caption>A tibble: 6 × 12</caption>\n",
       "<thead>\n",
       "\t<tr><th scope=col>Price</th><th scope=col>Rooms</th><th scope=col>Distance</th><th scope=col>Bedroom2</th><th scope=col>Bathroom</th><th scope=col>Car</th><th scope=col>Landsize</th><th scope=col>BuildingArea</th><th scope=col>YearBuilt</th><th scope=col>Lattitude</th><th scope=col>Longtitude</th><th scope=col>Propertycount</th></tr>\n",
       "\t<tr><th scope=col>&lt;dbl&gt;</th><th scope=col>&lt;dbl&gt;</th><th scope=col>&lt;dbl&gt;</th><th scope=col>&lt;dbl&gt;</th><th scope=col>&lt;dbl&gt;</th><th scope=col>&lt;dbl&gt;</th><th scope=col>&lt;dbl&gt;</th><th scope=col>&lt;dbl&gt;</th><th scope=col>&lt;dbl&gt;</th><th scope=col>&lt;dbl&gt;</th><th scope=col>&lt;dbl&gt;</th><th scope=col>&lt;dbl&gt;</th></tr>\n",
       "</thead>\n",
       "<tbody>\n",
       "\t<tr><td>1035000</td><td>2</td><td>2.5</td><td>2</td><td>1</td><td>0</td><td>156</td><td> 79</td><td>1900</td><td>-37.8079</td><td>144.9934</td><td>4019</td></tr>\n",
       "\t<tr><td>1465000</td><td>3</td><td>2.5</td><td>3</td><td>2</td><td>0</td><td>134</td><td>150</td><td>1900</td><td>-37.8093</td><td>144.9944</td><td>4019</td></tr>\n",
       "\t<tr><td>1600000</td><td>4</td><td>2.5</td><td>3</td><td>1</td><td>2</td><td>120</td><td>142</td><td>2014</td><td>-37.8072</td><td>144.9941</td><td>4019</td></tr>\n",
       "\t<tr><td>1876000</td><td>3</td><td>2.5</td><td>4</td><td>2</td><td>0</td><td>245</td><td>210</td><td>1910</td><td>-37.8024</td><td>144.9993</td><td>4019</td></tr>\n",
       "\t<tr><td>1636000</td><td>2</td><td>2.5</td><td>2</td><td>1</td><td>2</td><td>256</td><td>107</td><td>1890</td><td>-37.8060</td><td>144.9954</td><td>4019</td></tr>\n",
       "\t<tr><td>1097000</td><td>2</td><td>2.5</td><td>3</td><td>1</td><td>2</td><td>220</td><td> 75</td><td>1900</td><td>-37.8010</td><td>144.9989</td><td>4019</td></tr>\n",
       "</tbody>\n",
       "</table>\n"
      ],
      "text/latex": [
       "A tibble: 6 × 12\n",
       "\\begin{tabular}{llllllllllll}\n",
       " Price & Rooms & Distance & Bedroom2 & Bathroom & Car & Landsize & BuildingArea & YearBuilt & Lattitude & Longtitude & Propertycount\\\\\n",
       " <dbl> & <dbl> & <dbl> & <dbl> & <dbl> & <dbl> & <dbl> & <dbl> & <dbl> & <dbl> & <dbl> & <dbl>\\\\\n",
       "\\hline\n",
       "\t 1035000 & 2 & 2.5 & 2 & 1 & 0 & 156 &  79 & 1900 & -37.8079 & 144.9934 & 4019\\\\\n",
       "\t 1465000 & 3 & 2.5 & 3 & 2 & 0 & 134 & 150 & 1900 & -37.8093 & 144.9944 & 4019\\\\\n",
       "\t 1600000 & 4 & 2.5 & 3 & 1 & 2 & 120 & 142 & 2014 & -37.8072 & 144.9941 & 4019\\\\\n",
       "\t 1876000 & 3 & 2.5 & 4 & 2 & 0 & 245 & 210 & 1910 & -37.8024 & 144.9993 & 4019\\\\\n",
       "\t 1636000 & 2 & 2.5 & 2 & 1 & 2 & 256 & 107 & 1890 & -37.8060 & 144.9954 & 4019\\\\\n",
       "\t 1097000 & 2 & 2.5 & 3 & 1 & 2 & 220 &  75 & 1900 & -37.8010 & 144.9989 & 4019\\\\\n",
       "\\end{tabular}\n"
      ],
      "text/markdown": [
       "\n",
       "A tibble: 6 × 12\n",
       "\n",
       "| Price &lt;dbl&gt; | Rooms &lt;dbl&gt; | Distance &lt;dbl&gt; | Bedroom2 &lt;dbl&gt; | Bathroom &lt;dbl&gt; | Car &lt;dbl&gt; | Landsize &lt;dbl&gt; | BuildingArea &lt;dbl&gt; | YearBuilt &lt;dbl&gt; | Lattitude &lt;dbl&gt; | Longtitude &lt;dbl&gt; | Propertycount &lt;dbl&gt; |\n",
       "|---|---|---|---|---|---|---|---|---|---|---|---|\n",
       "| 1035000 | 2 | 2.5 | 2 | 1 | 0 | 156 |  79 | 1900 | -37.8079 | 144.9934 | 4019 |\n",
       "| 1465000 | 3 | 2.5 | 3 | 2 | 0 | 134 | 150 | 1900 | -37.8093 | 144.9944 | 4019 |\n",
       "| 1600000 | 4 | 2.5 | 3 | 1 | 2 | 120 | 142 | 2014 | -37.8072 | 144.9941 | 4019 |\n",
       "| 1876000 | 3 | 2.5 | 4 | 2 | 0 | 245 | 210 | 1910 | -37.8024 | 144.9993 | 4019 |\n",
       "| 1636000 | 2 | 2.5 | 2 | 1 | 2 | 256 | 107 | 1890 | -37.8060 | 144.9954 | 4019 |\n",
       "| 1097000 | 2 | 2.5 | 3 | 1 | 2 | 220 |  75 | 1900 | -37.8010 | 144.9989 | 4019 |\n",
       "\n"
      ],
      "text/plain": [
       "  Price   Rooms Distance Bedroom2 Bathroom Car Landsize BuildingArea YearBuilt\n",
       "1 1035000 2     2.5      2        1        0   156       79          1900     \n",
       "2 1465000 3     2.5      3        2        0   134      150          1900     \n",
       "3 1600000 4     2.5      3        1        2   120      142          2014     \n",
       "4 1876000 3     2.5      4        2        0   245      210          1910     \n",
       "5 1636000 2     2.5      2        1        2   256      107          1890     \n",
       "6 1097000 2     2.5      3        1        2   220       75          1900     \n",
       "  Lattitude Longtitude Propertycount\n",
       "1 -37.8079  144.9934   4019         \n",
       "2 -37.8093  144.9944   4019         \n",
       "3 -37.8072  144.9941   4019         \n",
       "4 -37.8024  144.9993   4019         \n",
       "5 -37.8060  144.9954   4019         \n",
       "6 -37.8010  144.9989   4019         "
      ]
     },
     "metadata": {},
     "output_type": "display_data"
    }
   ],
   "source": [
    "housing_numeric <- housing_data |>\n",
    "                select(Price, Rooms, Distance, Bedroom2, Bathroom, Car, Landsize, BuildingArea, YearBuilt, Lattitude,\n",
    "                      Longtitude, Propertycount)\n",
    "head(housing_numeric)"
   ]
  },
  {
   "cell_type": "code",
   "execution_count": 6,
   "id": "4ecbc869-9568-440c-b91b-67d9aa065cb3",
   "metadata": {
    "tags": []
   },
   "outputs": [],
   "source": [
    "# set seed\n",
    "set.seed(2023)\n",
    "# split the housing data\n",
    "housing_split<- initial_split(housing_data,prop = 0.6,strata = Price)\n",
    "housing_testing<- testing(housing_split)\n",
    "housing_training<- training(housing_split)"
   ]
  },
  {
   "cell_type": "code",
   "execution_count": 23,
   "id": "26d8bd24-c91f-4a98-ba05-e2b922062a0c",
   "metadata": {
    "tags": []
   },
   "outputs": [
    {
     "data": {
      "text/html": [
       "-0.150007774832532"
      ],
      "text/latex": [
       "-0.150007774832532"
      ],
      "text/markdown": [
       "-0.150007774832532"
      ],
      "text/plain": [
       "[1] -0.1500078"
      ]
     },
     "metadata": {},
     "output_type": "display_data"
    }
   ],
   "source": [
    "cor(housing_training$Price, housing_training$Distance)"
   ]
  },
  {
   "cell_type": "code",
   "execution_count": 16,
   "id": "8fe10fd2-ca5c-4e42-90c9-a82c86926f1e",
   "metadata": {
    "tags": []
   },
   "outputs": [],
   "source": [
    "#housing_training_1 <- housing_training |>\n",
    "                    #select(Price, Rooms, Type, Method, SellerG, Date, Distance, Postcode, Bedroom2, Bathroom)\n",
    "#housing_training_1\n",
    "#housing_training_2 <- housing_training |>\n",
    "                    #select(Price, Car, Landsize, BuildingArea, YearBuilt, CouncilArea, Lattitude, Longtitude, Regionname, Propertycount)\n",
    "#housing_training_2\n",
    "\n",
    "\n",
    "\n",
    "#housing_training_1 <- housing_training_1[, !(names(housing_training_1) %in% c(\"SellerG\"))]\n",
    "#ggpairs(housing_training_1, cardinality_threshold = 200)  # Adjust the threshold as needed\n"
   ]
  },
  {
   "cell_type": "markdown",
   "id": "f00ca3b2-a23b-476e-86d9-40c19b4eb681",
   "metadata": {},
   "source": [
    "## 2.2 Plotting"
   ]
  },
  {
   "cell_type": "code",
   "execution_count": null,
   "id": "30d3bcbd-3c31-424d-affa-1f818ca96c9b",
   "metadata": {},
   "outputs": [],
   "source": [
    "housing_data <- as.data.frame(housing_data)\n",
    "housing_data\n"
   ]
  },
  {
   "cell_type": "code",
   "execution_count": null,
   "id": "29177e37-c46c-4f02-9f0d-569fc4e7eec2",
   "metadata": {},
   "outputs": [],
   "source": [
    "### Correlation Between the Price and Rooms"
   ]
  },
  {
   "cell_type": "code",
   "execution_count": null,
   "id": "0b86ea15-15c6-43b1-8caf-2f74ca4e06b3",
   "metadata": {},
   "outputs": [],
   "source": [
    "linear_model <- lm(log(Price) ~ Rooms, data = housing_data)\n",
    "linear_model"
   ]
  },
  {
   "cell_type": "code",
   "execution_count": null,
   "id": "d2eb74f3-662f-489f-8fb4-2d2ed0d86e79",
   "metadata": {},
   "outputs": [],
   "source": []
  },
  {
   "cell_type": "markdown",
   "id": "83f74efd-85de-4963-82ed-0d73af5c3913",
   "metadata": {},
   "source": [
    "## 2.3 Model Fitting"
   ]
  },
  {
   "cell_type": "code",
   "execution_count": 7,
   "id": "88190116-1eae-4c89-b754-5b954880c40e",
   "metadata": {
    "tags": []
   },
   "outputs": [],
   "source": [
    "lm_spec <- linear_reg() |>\n",
    "           set_engine(\"lm\") |>\n",
    "           set_mode(\"regression\")"
   ]
  },
  {
   "cell_type": "code",
   "execution_count": 9,
   "id": "a22f9ab5-9d81-4110-a257-5cc47b602483",
   "metadata": {
    "tags": []
   },
   "outputs": [],
   "source": [
    "lm_recipe <- recipe(Price ~ ., data = housing_training)\n",
    "\n",
    "lm_fit  <- workflow() |>\n",
    "           add_recipe(lm_recipe) |>\n",
    "           add_model(lm_spec) |>\n",
    "           fit(data = housing_training)\n",
    "            "
   ]
  },
  {
   "cell_type": "code",
   "execution_count": null,
   "id": "25ae906a-58e9-41d8-b155-0b8e2b82b09b",
   "metadata": {},
   "outputs": [],
   "source": []
  },
  {
   "cell_type": "markdown",
   "id": "02310cb3-26f5-4625-94f6-e15080f0e90c",
   "metadata": {},
   "source": [
    "# 3.Discussion"
   ]
  },
  {
   "cell_type": "code",
   "execution_count": null,
   "id": "e9748d76-3d9f-4ef4-9ea0-ceb54a13a98f",
   "metadata": {},
   "outputs": [],
   "source": []
  },
  {
   "cell_type": "markdown",
   "id": "912ad1f8-231f-4625-b0a5-28483102f0bc",
   "metadata": {},
   "source": [
    "# 4.Reference"
   ]
  },
  {
   "cell_type": "code",
   "execution_count": null,
   "id": "19d0e94a-37df-4b06-8110-780f79c93342",
   "metadata": {},
   "outputs": [],
   "source": []
  }
 ],
 "metadata": {
  "kernelspec": {
   "display_name": "R",
   "language": "R",
   "name": "ir"
  },
  "language_info": {
   "codemirror_mode": "r",
   "file_extension": ".r",
   "mimetype": "text/x-r-source",
   "name": "R",
   "pygments_lexer": "r",
   "version": "4.2.2"
  }
 },
 "nbformat": 4,
 "nbformat_minor": 5
}
