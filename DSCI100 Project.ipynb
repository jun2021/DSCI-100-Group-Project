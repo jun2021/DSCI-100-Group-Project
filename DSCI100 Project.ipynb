{
 "cells": [
  {
   "cell_type": "code",
   "execution_count": 7,
   "id": "bfd00ead-eea5-4704-9187-c8448e569b82",
   "metadata": {
    "tags": []
   },
   "outputs": [
    {
     "name": "stderr",
     "output_type": "stream",
     "text": [
      "Updating HTML index of packages in '.Library'\n",
      "\n",
      "Making 'packages.html' ...\n",
      " done\n",
      "\n",
      "Updating HTML index of packages in '.Library'\n",
      "\n",
      "Making 'packages.html' ...\n",
      " done\n",
      "\n"
     ]
    }
   ],
   "source": [
    "# library\n",
    "install.packages(\"GGally\")\n",
    "library(tidyverse)\n",
    "library(repr)\n",
    "library(tidymodels)\n",
    "library(GGally)\n",
    "install.packages(\"cowplot\")\n",
    "library(cowplot)\n",
    "options(repr.matrix.max.rows = 6)"
   ]
  },
  {
   "cell_type": "markdown",
   "id": "6a1ce8e4-dafb-4a4b-bfbd-ca9302793341",
   "metadata": {},
   "source": [
    "# Finding investment properties in Melbourne"
   ]
  },
  {
   "cell_type": "markdown",
   "id": "57a84c75-d7d1-4ed4-990e-25e7f40737ab",
   "metadata": {},
   "source": [
    "# Introduction\n",
    "In recent years, global housing prices have been experiencing different changes in response to the market. In Melbourne, housing prices are also generating fluctuations and generating a lot of discussion. Known for its diversity and cultural scene, Melbourne has also been a popular property market that attracts investors from all over the world, and thus Melbourne's house prices have been stimulating interest in research. In this project, we will focus on Melbourne's house prices, hoping to create a model that can predict house prices more accurately. Along with information on a number of influencing factors, we will be able to answer the question, \"What homes in Melbourne are undervalued or overvalued?\". The crux of the question is to determine if the property is worth investing in. To answer this question, we will use the Melbourne Housing Dataset. In this dataset we have 21 variables and we want to select 8 of them as the main influencing factors. We will use the corr() method to select these 8 factors, which will be the major determinants of house prices, so we will select these 8 factors to model and predict whether different houses in Melbourne are worth buying at different house prices.\n",
    "\n"
   ]
  },
  {
   "cell_type": "code",
   "execution_count": 13,
   "id": "e5840619-055b-4c61-bf2e-43fa28e3de72",
   "metadata": {
    "tags": []
   },
   "outputs": [
    {
     "name": "stderr",
     "output_type": "stream",
     "text": [
      "\u001b[1mRows: \u001b[22m\u001b[34m13580\u001b[39m \u001b[1mColumns: \u001b[22m\u001b[34m21\u001b[39m\n",
      "\u001b[36m──\u001b[39m \u001b[1mColumn specification\u001b[22m \u001b[36m────────────────────────────────────────────────────────\u001b[39m\n",
      "\u001b[1mDelimiter:\u001b[22m \",\"\n",
      "\u001b[31mchr\u001b[39m  (8): Suburb, Address, Type, Method, SellerG, Date, CouncilArea, Regionname\n",
      "\u001b[32mdbl\u001b[39m (13): Rooms, Price, Distance, Postcode, Bedroom2, Bathroom, Car, Landsiz...\n",
      "\n",
      "\u001b[36mℹ\u001b[39m Use `spec()` to retrieve the full column specification for this data.\n",
      "\u001b[36mℹ\u001b[39m Specify the column types or set `show_col_types = FALSE` to quiet this message.\n"
     ]
    },
    {
     "data": {
      "text/html": [
       "<table class=\"dataframe\">\n",
       "<caption>A spec_tbl_df: 13580 × 21</caption>\n",
       "<thead>\n",
       "\t<tr><th scope=col>Suburb</th><th scope=col>Address</th><th scope=col>Rooms</th><th scope=col>Type</th><th scope=col>Price</th><th scope=col>Method</th><th scope=col>SellerG</th><th scope=col>Date</th><th scope=col>Distance</th><th scope=col>Postcode</th><th scope=col>⋯</th><th scope=col>Bathroom</th><th scope=col>Car</th><th scope=col>Landsize</th><th scope=col>BuildingArea</th><th scope=col>YearBuilt</th><th scope=col>CouncilArea</th><th scope=col>Lattitude</th><th scope=col>Longtitude</th><th scope=col>Regionname</th><th scope=col>Propertycount</th></tr>\n",
       "\t<tr><th scope=col>&lt;chr&gt;</th><th scope=col>&lt;chr&gt;</th><th scope=col>&lt;dbl&gt;</th><th scope=col>&lt;chr&gt;</th><th scope=col>&lt;dbl&gt;</th><th scope=col>&lt;chr&gt;</th><th scope=col>&lt;chr&gt;</th><th scope=col>&lt;chr&gt;</th><th scope=col>&lt;dbl&gt;</th><th scope=col>&lt;dbl&gt;</th><th scope=col>⋯</th><th scope=col>&lt;dbl&gt;</th><th scope=col>&lt;dbl&gt;</th><th scope=col>&lt;dbl&gt;</th><th scope=col>&lt;dbl&gt;</th><th scope=col>&lt;dbl&gt;</th><th scope=col>&lt;chr&gt;</th><th scope=col>&lt;dbl&gt;</th><th scope=col>&lt;dbl&gt;</th><th scope=col>&lt;chr&gt;</th><th scope=col>&lt;dbl&gt;</th></tr>\n",
       "</thead>\n",
       "<tbody>\n",
       "\t<tr><td>Abbotsford</td><td>85 Turner St   </td><td>2</td><td>h</td><td>1480000</td><td>S </td><td>Biggin</td><td>3/12/2016</td><td>2.5</td><td>3067</td><td>⋯</td><td>1</td><td>1</td><td>202</td><td> NA</td><td>  NA</td><td>Yarra</td><td>-37.7996</td><td>144.9984</td><td>Northern Metropolitan</td><td>4019</td></tr>\n",
       "\t<tr><td>Abbotsford</td><td>25 Bloomburg St</td><td>2</td><td>h</td><td>1035000</td><td>S </td><td>Biggin</td><td>4/02/2016</td><td>2.5</td><td>3067</td><td>⋯</td><td>1</td><td>0</td><td>156</td><td> 79</td><td>1900</td><td>Yarra</td><td>-37.8079</td><td>144.9934</td><td>Northern Metropolitan</td><td>4019</td></tr>\n",
       "\t<tr><td>Abbotsford</td><td>5 Charles St   </td><td>3</td><td>h</td><td>1465000</td><td>SP</td><td>Biggin</td><td>4/03/2017</td><td>2.5</td><td>3067</td><td>⋯</td><td>2</td><td>0</td><td>134</td><td>150</td><td>1900</td><td>Yarra</td><td>-37.8093</td><td>144.9944</td><td>Northern Metropolitan</td><td>4019</td></tr>\n",
       "\t<tr><td>⋮</td><td>⋮</td><td>⋮</td><td>⋮</td><td>⋮</td><td>⋮</td><td>⋮</td><td>⋮</td><td>⋮</td><td>⋮</td><td>⋱</td><td>⋮</td><td>⋮</td><td>⋮</td><td>⋮</td><td>⋮</td><td>⋮</td><td>⋮</td><td>⋮</td><td>⋮</td><td>⋮</td></tr>\n",
       "\t<tr><td>Williamstown</td><td>83 Power St </td><td>3</td><td>h</td><td>1170000</td><td>S </td><td>Raine  </td><td>26/08/2017</td><td>6.8</td><td>3016</td><td>⋯</td><td>2</td><td>4</td><td>436</td><td> NA</td><td>1997</td><td>NA</td><td>-37.85274</td><td>144.8874</td><td>Western Metropolitan</td><td>6380</td></tr>\n",
       "\t<tr><td>Williamstown</td><td>96 Verdon St</td><td>4</td><td>h</td><td>2500000</td><td>PI</td><td>Sweeney</td><td>26/08/2017</td><td>6.8</td><td>3016</td><td>⋯</td><td>1</td><td>5</td><td>866</td><td>157</td><td>1920</td><td>NA</td><td>-37.85908</td><td>144.8930</td><td>Western Metropolitan</td><td>6380</td></tr>\n",
       "\t<tr><td>Yarraville  </td><td>6 Agnes St  </td><td>4</td><td>h</td><td>1285000</td><td>SP</td><td>Village</td><td>26/08/2017</td><td>6.3</td><td>3013</td><td>⋯</td><td>1</td><td>1</td><td>362</td><td>112</td><td>1920</td><td>NA</td><td>-37.81188</td><td>144.8845</td><td>Western Metropolitan</td><td>6543</td></tr>\n",
       "</tbody>\n",
       "</table>\n"
      ],
      "text/latex": [
       "A spec\\_tbl\\_df: 13580 × 21\n",
       "\\begin{tabular}{lllllllllllllllllllll}\n",
       " Suburb & Address & Rooms & Type & Price & Method & SellerG & Date & Distance & Postcode & ⋯ & Bathroom & Car & Landsize & BuildingArea & YearBuilt & CouncilArea & Lattitude & Longtitude & Regionname & Propertycount\\\\\n",
       " <chr> & <chr> & <dbl> & <chr> & <dbl> & <chr> & <chr> & <chr> & <dbl> & <dbl> & ⋯ & <dbl> & <dbl> & <dbl> & <dbl> & <dbl> & <chr> & <dbl> & <dbl> & <chr> & <dbl>\\\\\n",
       "\\hline\n",
       "\t Abbotsford & 85 Turner St    & 2 & h & 1480000 & S  & Biggin & 3/12/2016 & 2.5 & 3067 & ⋯ & 1 & 1 & 202 &  NA &   NA & Yarra & -37.7996 & 144.9984 & Northern Metropolitan & 4019\\\\\n",
       "\t Abbotsford & 25 Bloomburg St & 2 & h & 1035000 & S  & Biggin & 4/02/2016 & 2.5 & 3067 & ⋯ & 1 & 0 & 156 &  79 & 1900 & Yarra & -37.8079 & 144.9934 & Northern Metropolitan & 4019\\\\\n",
       "\t Abbotsford & 5 Charles St    & 3 & h & 1465000 & SP & Biggin & 4/03/2017 & 2.5 & 3067 & ⋯ & 2 & 0 & 134 & 150 & 1900 & Yarra & -37.8093 & 144.9944 & Northern Metropolitan & 4019\\\\\n",
       "\t ⋮ & ⋮ & ⋮ & ⋮ & ⋮ & ⋮ & ⋮ & ⋮ & ⋮ & ⋮ & ⋱ & ⋮ & ⋮ & ⋮ & ⋮ & ⋮ & ⋮ & ⋮ & ⋮ & ⋮ & ⋮\\\\\n",
       "\t Williamstown & 83 Power St  & 3 & h & 1170000 & S  & Raine   & 26/08/2017 & 6.8 & 3016 & ⋯ & 2 & 4 & 436 &  NA & 1997 & NA & -37.85274 & 144.8874 & Western Metropolitan & 6380\\\\\n",
       "\t Williamstown & 96 Verdon St & 4 & h & 2500000 & PI & Sweeney & 26/08/2017 & 6.8 & 3016 & ⋯ & 1 & 5 & 866 & 157 & 1920 & NA & -37.85908 & 144.8930 & Western Metropolitan & 6380\\\\\n",
       "\t Yarraville   & 6 Agnes St   & 4 & h & 1285000 & SP & Village & 26/08/2017 & 6.3 & 3013 & ⋯ & 1 & 1 & 362 & 112 & 1920 & NA & -37.81188 & 144.8845 & Western Metropolitan & 6543\\\\\n",
       "\\end{tabular}\n"
      ],
      "text/markdown": [
       "\n",
       "A spec_tbl_df: 13580 × 21\n",
       "\n",
       "| Suburb &lt;chr&gt; | Address &lt;chr&gt; | Rooms &lt;dbl&gt; | Type &lt;chr&gt; | Price &lt;dbl&gt; | Method &lt;chr&gt; | SellerG &lt;chr&gt; | Date &lt;chr&gt; | Distance &lt;dbl&gt; | Postcode &lt;dbl&gt; | ⋯ ⋯ | Bathroom &lt;dbl&gt; | Car &lt;dbl&gt; | Landsize &lt;dbl&gt; | BuildingArea &lt;dbl&gt; | YearBuilt &lt;dbl&gt; | CouncilArea &lt;chr&gt; | Lattitude &lt;dbl&gt; | Longtitude &lt;dbl&gt; | Regionname &lt;chr&gt; | Propertycount &lt;dbl&gt; |\n",
       "|---|---|---|---|---|---|---|---|---|---|---|---|---|---|---|---|---|---|---|---|---|\n",
       "| Abbotsford | 85 Turner St    | 2 | h | 1480000 | S  | Biggin | 3/12/2016 | 2.5 | 3067 | ⋯ | 1 | 1 | 202 |  NA |   NA | Yarra | -37.7996 | 144.9984 | Northern Metropolitan | 4019 |\n",
       "| Abbotsford | 25 Bloomburg St | 2 | h | 1035000 | S  | Biggin | 4/02/2016 | 2.5 | 3067 | ⋯ | 1 | 0 | 156 |  79 | 1900 | Yarra | -37.8079 | 144.9934 | Northern Metropolitan | 4019 |\n",
       "| Abbotsford | 5 Charles St    | 3 | h | 1465000 | SP | Biggin | 4/03/2017 | 2.5 | 3067 | ⋯ | 2 | 0 | 134 | 150 | 1900 | Yarra | -37.8093 | 144.9944 | Northern Metropolitan | 4019 |\n",
       "| ⋮ | ⋮ | ⋮ | ⋮ | ⋮ | ⋮ | ⋮ | ⋮ | ⋮ | ⋮ | ⋱ | ⋮ | ⋮ | ⋮ | ⋮ | ⋮ | ⋮ | ⋮ | ⋮ | ⋮ | ⋮ |\n",
       "| Williamstown | 83 Power St  | 3 | h | 1170000 | S  | Raine   | 26/08/2017 | 6.8 | 3016 | ⋯ | 2 | 4 | 436 |  NA | 1997 | NA | -37.85274 | 144.8874 | Western Metropolitan | 6380 |\n",
       "| Williamstown | 96 Verdon St | 4 | h | 2500000 | PI | Sweeney | 26/08/2017 | 6.8 | 3016 | ⋯ | 1 | 5 | 866 | 157 | 1920 | NA | -37.85908 | 144.8930 | Western Metropolitan | 6380 |\n",
       "| Yarraville   | 6 Agnes St   | 4 | h | 1285000 | SP | Village | 26/08/2017 | 6.3 | 3013 | ⋯ | 1 | 1 | 362 | 112 | 1920 | NA | -37.81188 | 144.8845 | Western Metropolitan | 6543 |\n",
       "\n"
      ],
      "text/plain": [
       "      Suburb       Address         Rooms Type Price   Method SellerG Date      \n",
       "1     Abbotsford   85 Turner St    2     h    1480000 S      Biggin  3/12/2016 \n",
       "2     Abbotsford   25 Bloomburg St 2     h    1035000 S      Biggin  4/02/2016 \n",
       "3     Abbotsford   5 Charles St    3     h    1465000 SP     Biggin  4/03/2017 \n",
       "⋮     ⋮            ⋮               ⋮     ⋮    ⋮       ⋮      ⋮       ⋮         \n",
       "13578 Williamstown 83 Power St     3     h    1170000 S      Raine   26/08/2017\n",
       "13579 Williamstown 96 Verdon St    4     h    2500000 PI     Sweeney 26/08/2017\n",
       "13580 Yarraville   6 Agnes St      4     h    1285000 SP     Village 26/08/2017\n",
       "      Distance Postcode ⋯ Bathroom Car Landsize BuildingArea YearBuilt\n",
       "1     2.5      3067     ⋯ 1        1   202       NA            NA     \n",
       "2     2.5      3067     ⋯ 1        0   156       79          1900     \n",
       "3     2.5      3067     ⋯ 2        0   134      150          1900     \n",
       "⋮     ⋮        ⋮        ⋱ ⋮        ⋮   ⋮        ⋮            ⋮        \n",
       "13578 6.8      3016     ⋯ 2        4   436       NA          1997     \n",
       "13579 6.8      3016     ⋯ 1        5   866      157          1920     \n",
       "13580 6.3      3013     ⋯ 1        1   362      112          1920     \n",
       "      CouncilArea Lattitude Longtitude Regionname            Propertycount\n",
       "1     Yarra       -37.7996  144.9984   Northern Metropolitan 4019         \n",
       "2     Yarra       -37.8079  144.9934   Northern Metropolitan 4019         \n",
       "3     Yarra       -37.8093  144.9944   Northern Metropolitan 4019         \n",
       "⋮     ⋮           ⋮         ⋮          ⋮                     ⋮            \n",
       "13578 NA          -37.85274 144.8874   Western Metropolitan  6380         \n",
       "13579 NA          -37.85908 144.8930   Western Metropolitan  6380         \n",
       "13580 NA          -37.81188 144.8845   Western Metropolitan  6543         "
      ]
     },
     "metadata": {},
     "output_type": "display_data"
    },
    {
     "data": {
      "text/html": [
       "<style>\n",
       ".list-inline {list-style: none; margin:0; padding: 0}\n",
       ".list-inline>li {display: inline-block}\n",
       ".list-inline>li:not(:last-child)::after {content: \"\\00b7\"; padding: 0 .5ex}\n",
       "</style>\n",
       "<ol class=list-inline><li>'spec_tbl_df'</li><li>'tbl_df'</li><li>'tbl'</li><li>'data.frame'</li></ol>\n"
      ],
      "text/latex": [
       "\\begin{enumerate*}\n",
       "\\item 'spec\\_tbl\\_df'\n",
       "\\item 'tbl\\_df'\n",
       "\\item 'tbl'\n",
       "\\item 'data.frame'\n",
       "\\end{enumerate*}\n"
      ],
      "text/markdown": [
       "1. 'spec_tbl_df'\n",
       "2. 'tbl_df'\n",
       "3. 'tbl'\n",
       "4. 'data.frame'\n",
       "\n",
       "\n"
      ],
      "text/plain": [
       "[1] \"spec_tbl_df\" \"tbl_df\"      \"tbl\"         \"data.frame\" "
      ]
     },
     "metadata": {},
     "output_type": "display_data"
    }
   ],
   "source": [
    "housing_data<- read_csv(\"https://raw.githubusercontent.com/jun2021/DSCI-100-Group-Project/main/melb_data.csv\")\n",
    "housing_data\n",
    "class(housing_data)\n",
    "\n"
   ]
  },
  {
   "cell_type": "code",
   "execution_count": 16,
   "id": "3568190e-5f07-4036-a881-4155fa6c5d26",
   "metadata": {
    "tags": []
   },
   "outputs": [
    {
     "data": {
      "text/html": [
       "<table class=\"dataframe\">\n",
       "<caption>A data.frame: 6196 × 18</caption>\n",
       "<thead>\n",
       "\t<tr><th></th><th scope=col>Suburb</th><th scope=col>Price</th><th scope=col>Method</th><th scope=col>SellerG</th><th scope=col>Date</th><th scope=col>Distance</th><th scope=col>Postcode</th><th scope=col>Bedroom2</th><th scope=col>Bathroom</th><th scope=col>Car</th><th scope=col>Landsize</th><th scope=col>BuildingArea</th><th scope=col>YearBuilt</th><th scope=col>CouncilArea</th><th scope=col>Lattitude</th><th scope=col>Longtitude</th><th scope=col>Regionname</th><th scope=col>Propertycount</th></tr>\n",
       "\t<tr><th></th><th scope=col>&lt;chr&gt;</th><th scope=col>&lt;dbl&gt;</th><th scope=col>&lt;chr&gt;</th><th scope=col>&lt;chr&gt;</th><th scope=col>&lt;chr&gt;</th><th scope=col>&lt;dbl&gt;</th><th scope=col>&lt;dbl&gt;</th><th scope=col>&lt;dbl&gt;</th><th scope=col>&lt;dbl&gt;</th><th scope=col>&lt;dbl&gt;</th><th scope=col>&lt;dbl&gt;</th><th scope=col>&lt;dbl&gt;</th><th scope=col>&lt;dbl&gt;</th><th scope=col>&lt;chr&gt;</th><th scope=col>&lt;dbl&gt;</th><th scope=col>&lt;dbl&gt;</th><th scope=col>&lt;chr&gt;</th><th scope=col>&lt;dbl&gt;</th></tr>\n",
       "</thead>\n",
       "<tbody>\n",
       "\t<tr><th scope=row>2</th><td>Abbotsford</td><td>1035000</td><td>S </td><td>Biggin</td><td>4/02/2016</td><td>2.5</td><td>3067</td><td>2</td><td>1</td><td>0</td><td>156</td><td> 79</td><td>1900</td><td>Yarra</td><td>-37.8079</td><td>144.9934</td><td>Northern Metropolitan</td><td>4019</td></tr>\n",
       "\t<tr><th scope=row>3</th><td>Abbotsford</td><td>1465000</td><td>SP</td><td>Biggin</td><td>4/03/2017</td><td>2.5</td><td>3067</td><td>3</td><td>2</td><td>0</td><td>134</td><td>150</td><td>1900</td><td>Yarra</td><td>-37.8093</td><td>144.9944</td><td>Northern Metropolitan</td><td>4019</td></tr>\n",
       "\t<tr><th scope=row>5</th><td>Abbotsford</td><td>1600000</td><td>VB</td><td>Nelson</td><td>4/06/2016</td><td>2.5</td><td>3067</td><td>3</td><td>1</td><td>2</td><td>120</td><td>142</td><td>2014</td><td>Yarra</td><td>-37.8072</td><td>144.9941</td><td>Northern Metropolitan</td><td>4019</td></tr>\n",
       "\t<tr><th scope=row>⋮</th><td>⋮</td><td>⋮</td><td>⋮</td><td>⋮</td><td>⋮</td><td>⋮</td><td>⋮</td><td>⋮</td><td>⋮</td><td>⋮</td><td>⋮</td><td>⋮</td><td>⋮</td><td>⋮</td><td>⋮</td><td>⋮</td><td>⋮</td><td>⋮</td></tr>\n",
       "\t<tr><th scope=row>12208</th><td>Williamstown</td><td> 385000</td><td>SP</td><td>Williams     </td><td>29/07/2017</td><td>6.8</td><td>3016</td><td>1</td><td>1</td><td>1</td><td>   0</td><td> 35.64</td><td>1967</td><td>Hobsons Bay</td><td>-37.85588</td><td>144.8994</td><td>Western Metropolitan </td><td>6380</td></tr>\n",
       "\t<tr><th scope=row>12210</th><td>Windsor     </td><td> 560000</td><td>PI</td><td>hockingstuart</td><td>29/07/2017</td><td>4.6</td><td>3181</td><td>2</td><td>1</td><td>1</td><td>   0</td><td> 61.60</td><td>2012</td><td>Stonnington</td><td>-37.85581</td><td>144.9903</td><td>Southern Metropolitan</td><td>4380</td></tr>\n",
       "\t<tr><th scope=row>12213</th><td>Yarraville  </td><td>2450000</td><td>VB</td><td>Village      </td><td>29/07/2017</td><td>6.3</td><td>3013</td><td>6</td><td>3</td><td>2</td><td>1087</td><td>388.50</td><td>1920</td><td>Maribyrnong</td><td>-37.81038</td><td>144.8939</td><td>Western Metropolitan </td><td>6543</td></tr>\n",
       "</tbody>\n",
       "</table>\n"
      ],
      "text/latex": [
       "A data.frame: 6196 × 18\n",
       "\\begin{tabular}{r|llllllllllllllllll}\n",
       "  & Suburb & Price & Method & SellerG & Date & Distance & Postcode & Bedroom2 & Bathroom & Car & Landsize & BuildingArea & YearBuilt & CouncilArea & Lattitude & Longtitude & Regionname & Propertycount\\\\\n",
       "  & <chr> & <dbl> & <chr> & <chr> & <chr> & <dbl> & <dbl> & <dbl> & <dbl> & <dbl> & <dbl> & <dbl> & <dbl> & <chr> & <dbl> & <dbl> & <chr> & <dbl>\\\\\n",
       "\\hline\n",
       "\t2 & Abbotsford & 1035000 & S  & Biggin & 4/02/2016 & 2.5 & 3067 & 2 & 1 & 0 & 156 &  79 & 1900 & Yarra & -37.8079 & 144.9934 & Northern Metropolitan & 4019\\\\\n",
       "\t3 & Abbotsford & 1465000 & SP & Biggin & 4/03/2017 & 2.5 & 3067 & 3 & 2 & 0 & 134 & 150 & 1900 & Yarra & -37.8093 & 144.9944 & Northern Metropolitan & 4019\\\\\n",
       "\t5 & Abbotsford & 1600000 & VB & Nelson & 4/06/2016 & 2.5 & 3067 & 3 & 1 & 2 & 120 & 142 & 2014 & Yarra & -37.8072 & 144.9941 & Northern Metropolitan & 4019\\\\\n",
       "\t⋮ & ⋮ & ⋮ & ⋮ & ⋮ & ⋮ & ⋮ & ⋮ & ⋮ & ⋮ & ⋮ & ⋮ & ⋮ & ⋮ & ⋮ & ⋮ & ⋮ & ⋮ & ⋮\\\\\n",
       "\t12208 & Williamstown &  385000 & SP & Williams      & 29/07/2017 & 6.8 & 3016 & 1 & 1 & 1 &    0 &  35.64 & 1967 & Hobsons Bay & -37.85588 & 144.8994 & Western Metropolitan  & 6380\\\\\n",
       "\t12210 & Windsor      &  560000 & PI & hockingstuart & 29/07/2017 & 4.6 & 3181 & 2 & 1 & 1 &    0 &  61.60 & 2012 & Stonnington & -37.85581 & 144.9903 & Southern Metropolitan & 4380\\\\\n",
       "\t12213 & Yarraville   & 2450000 & VB & Village       & 29/07/2017 & 6.3 & 3013 & 6 & 3 & 2 & 1087 & 388.50 & 1920 & Maribyrnong & -37.81038 & 144.8939 & Western Metropolitan  & 6543\\\\\n",
       "\\end{tabular}\n"
      ],
      "text/markdown": [
       "\n",
       "A data.frame: 6196 × 18\n",
       "\n",
       "| <!--/--> | Suburb &lt;chr&gt; | Price &lt;dbl&gt; | Method &lt;chr&gt; | SellerG &lt;chr&gt; | Date &lt;chr&gt; | Distance &lt;dbl&gt; | Postcode &lt;dbl&gt; | Bedroom2 &lt;dbl&gt; | Bathroom &lt;dbl&gt; | Car &lt;dbl&gt; | Landsize &lt;dbl&gt; | BuildingArea &lt;dbl&gt; | YearBuilt &lt;dbl&gt; | CouncilArea &lt;chr&gt; | Lattitude &lt;dbl&gt; | Longtitude &lt;dbl&gt; | Regionname &lt;chr&gt; | Propertycount &lt;dbl&gt; |\n",
       "|---|---|---|---|---|---|---|---|---|---|---|---|---|---|---|---|---|---|---|\n",
       "| 2 | Abbotsford | 1035000 | S  | Biggin | 4/02/2016 | 2.5 | 3067 | 2 | 1 | 0 | 156 |  79 | 1900 | Yarra | -37.8079 | 144.9934 | Northern Metropolitan | 4019 |\n",
       "| 3 | Abbotsford | 1465000 | SP | Biggin | 4/03/2017 | 2.5 | 3067 | 3 | 2 | 0 | 134 | 150 | 1900 | Yarra | -37.8093 | 144.9944 | Northern Metropolitan | 4019 |\n",
       "| 5 | Abbotsford | 1600000 | VB | Nelson | 4/06/2016 | 2.5 | 3067 | 3 | 1 | 2 | 120 | 142 | 2014 | Yarra | -37.8072 | 144.9941 | Northern Metropolitan | 4019 |\n",
       "| ⋮ | ⋮ | ⋮ | ⋮ | ⋮ | ⋮ | ⋮ | ⋮ | ⋮ | ⋮ | ⋮ | ⋮ | ⋮ | ⋮ | ⋮ | ⋮ | ⋮ | ⋮ | ⋮ |\n",
       "| 12208 | Williamstown |  385000 | SP | Williams      | 29/07/2017 | 6.8 | 3016 | 1 | 1 | 1 |    0 |  35.64 | 1967 | Hobsons Bay | -37.85588 | 144.8994 | Western Metropolitan  | 6380 |\n",
       "| 12210 | Windsor      |  560000 | PI | hockingstuart | 29/07/2017 | 4.6 | 3181 | 2 | 1 | 1 |    0 |  61.60 | 2012 | Stonnington | -37.85581 | 144.9903 | Southern Metropolitan | 4380 |\n",
       "| 12213 | Yarraville   | 2450000 | VB | Village       | 29/07/2017 | 6.3 | 3013 | 6 | 3 | 2 | 1087 | 388.50 | 1920 | Maribyrnong | -37.81038 | 144.8939 | Western Metropolitan  | 6543 |\n",
       "\n"
      ],
      "text/plain": [
       "      Suburb       Price   Method SellerG       Date       Distance Postcode\n",
       "2     Abbotsford   1035000 S      Biggin        4/02/2016  2.5      3067    \n",
       "3     Abbotsford   1465000 SP     Biggin        4/03/2017  2.5      3067    \n",
       "5     Abbotsford   1600000 VB     Nelson        4/06/2016  2.5      3067    \n",
       "⋮     ⋮            ⋮       ⋮      ⋮             ⋮          ⋮        ⋮       \n",
       "12208 Williamstown  385000 SP     Williams      29/07/2017 6.8      3016    \n",
       "12210 Windsor       560000 PI     hockingstuart 29/07/2017 4.6      3181    \n",
       "12213 Yarraville   2450000 VB     Village       29/07/2017 6.3      3013    \n",
       "      Bedroom2 Bathroom Car Landsize BuildingArea YearBuilt CouncilArea\n",
       "2     2        1        0   156       79          1900      Yarra      \n",
       "3     3        2        0   134      150          1900      Yarra      \n",
       "5     3        1        2   120      142          2014      Yarra      \n",
       "⋮     ⋮        ⋮        ⋮   ⋮        ⋮            ⋮         ⋮          \n",
       "12208 1        1        1      0      35.64       1967      Hobsons Bay\n",
       "12210 2        1        1      0      61.60       2012      Stonnington\n",
       "12213 6        3        2   1087     388.50       1920      Maribyrnong\n",
       "      Lattitude Longtitude Regionname            Propertycount\n",
       "2     -37.8079  144.9934   Northern Metropolitan 4019         \n",
       "3     -37.8093  144.9944   Northern Metropolitan 4019         \n",
       "5     -37.8072  144.9941   Northern Metropolitan 4019         \n",
       "⋮     ⋮         ⋮          ⋮                     ⋮            \n",
       "12208 -37.85588 144.8994   Western Metropolitan  6380         \n",
       "12210 -37.85581 144.9903   Southern Metropolitan 4380         \n",
       "12213 -37.81038 144.8939   Western Metropolitan  6543         "
      ]
     },
     "metadata": {},
     "output_type": "display_data"
    }
   ],
   "source": [
    "housing_data <- housing_data[,-2] |>\n",
    "                na.omit()\n",
    "\n",
    "\n",
    "housing_data\n",
    "\n",
    "\n"
   ]
  },
  {
   "cell_type": "code",
   "execution_count": 17,
   "id": "4ecbc869-9568-440c-b91b-67d9aa065cb3",
   "metadata": {
    "tags": []
   },
   "outputs": [],
   "source": [
    "housing_split<- initial_split(housing_data,prop = 0.75,strata = Price)\n",
    "housing_testing<- testing(housing_split)\n",
    "housing_training<- training(housing_split)\n",
    "\n"
   ]
  },
  {
   "cell_type": "code",
   "execution_count": null,
   "id": "7fa4a057-3ec7-42c5-828b-57f1ddd82e38",
   "metadata": {
    "tags": []
   },
   "outputs": [
    {
     "name": "stderr",
     "output_type": "stream",
     "text": [
      "\u001b[1m\u001b[22m`stat_bin()` using `bins = 30`. Pick better value with `binwidth`.\n",
      "\u001b[1m\u001b[22m`stat_bin()` using `bins = 30`. Pick better value with `binwidth`.\n",
      "\u001b[1m\u001b[22m`stat_bin()` using `bins = 30`. Pick better value with `binwidth`.\n",
      "\u001b[1m\u001b[22m`stat_bin()` using `bins = 30`. Pick better value with `binwidth`.\n",
      "\u001b[1m\u001b[22m`stat_bin()` using `bins = 30`. Pick better value with `binwidth`.\n",
      "\u001b[1m\u001b[22m`stat_bin()` using `bins = 30`. Pick better value with `binwidth`.\n",
      "\u001b[1m\u001b[22m`stat_bin()` using `bins = 30`. Pick better value with `binwidth`.\n",
      "\u001b[1m\u001b[22m`stat_bin()` using `bins = 30`. Pick better value with `binwidth`.\n",
      "\u001b[1m\u001b[22m`stat_bin()` using `bins = 30`. Pick better value with `binwidth`.\n",
      "\u001b[1m\u001b[22m`stat_bin()` using `bins = 30`. Pick better value with `binwidth`.\n",
      "\u001b[1m\u001b[22m`stat_bin()` using `bins = 30`. Pick better value with `binwidth`.\n",
      "\u001b[1m\u001b[22m`stat_bin()` using `bins = 30`. Pick better value with `binwidth`.\n",
      "\u001b[1m\u001b[22m`stat_bin()` using `bins = 30`. Pick better value with `binwidth`.\n",
      "\u001b[1m\u001b[22m`stat_bin()` using `bins = 30`. Pick better value with `binwidth`.\n",
      "\u001b[1m\u001b[22m`stat_bin()` using `bins = 30`. Pick better value with `binwidth`.\n",
      "\u001b[1m\u001b[22m`stat_bin()` using `bins = 30`. Pick better value with `binwidth`.\n",
      "\u001b[1m\u001b[22m`stat_bin()` using `bins = 30`. Pick better value with `binwidth`.\n",
      "\u001b[1m\u001b[22m`stat_bin()` using `bins = 30`. Pick better value with `binwidth`.\n",
      "\u001b[1m\u001b[22m`stat_bin()` using `bins = 30`. Pick better value with `binwidth`.\n",
      "\u001b[1m\u001b[22m`stat_bin()` using `bins = 30`. Pick better value with `binwidth`.\n",
      "\u001b[1m\u001b[22m`stat_bin()` using `bins = 30`. Pick better value with `binwidth`.\n",
      "\u001b[1m\u001b[22m`stat_bin()` using `bins = 30`. Pick better value with `binwidth`.\n",
      "\u001b[1m\u001b[22m`stat_bin()` using `bins = 30`. Pick better value with `binwidth`.\n",
      "\u001b[1m\u001b[22m`stat_bin()` using `bins = 30`. Pick better value with `binwidth`.\n",
      "\u001b[1m\u001b[22m`stat_bin()` using `bins = 30`. Pick better value with `binwidth`.\n",
      "\u001b[1m\u001b[22m`stat_bin()` using `bins = 30`. Pick better value with `binwidth`.\n",
      "\u001b[1m\u001b[22m`stat_bin()` using `bins = 30`. Pick better value with `binwidth`.\n",
      "\u001b[1m\u001b[22m`stat_bin()` using `bins = 30`. Pick better value with `binwidth`.\n",
      "\u001b[1m\u001b[22m`stat_bin()` using `bins = 30`. Pick better value with `binwidth`.\n",
      "\u001b[1m\u001b[22m`stat_bin()` using `bins = 30`. Pick better value with `binwidth`.\n",
      "\u001b[1m\u001b[22m`stat_bin()` using `bins = 30`. Pick better value with `binwidth`.\n",
      "\u001b[1m\u001b[22m`stat_bin()` using `bins = 30`. Pick better value with `binwidth`.\n",
      "\u001b[1m\u001b[22m`stat_bin()` using `bins = 30`. Pick better value with `binwidth`.\n",
      "\u001b[1m\u001b[22m`stat_bin()` using `bins = 30`. Pick better value with `binwidth`.\n",
      "\u001b[1m\u001b[22m`stat_bin()` using `bins = 30`. Pick better value with `binwidth`.\n",
      "\u001b[1m\u001b[22m`stat_bin()` using `bins = 30`. Pick better value with `binwidth`.\n"
     ]
    }
   ],
   "source": [
    "housing_pairplot <- housing_training |> \n",
    "    select(-Suburb, -SellerG, -Date, -CouncilArea)|>\n",
    "    ggpairs(\n",
    "        lower = list(continuous = wrap('points', alpha = 0.4)),\n",
    "        diag = list(continuous = \"barDiag\")\n",
    "    ) +\n",
    "    theme(text = element_text(size = 20))\n",
    "\n",
    "\n",
    "housing_pairplot\n",
    "\n"
   ]
  },
  {
   "cell_type": "code",
   "execution_count": 7,
   "id": "88190116-1eae-4c89-b754-5b954880c40e",
   "metadata": {
    "tags": []
   },
   "outputs": [],
   "source": [
    "lm_spec <- linear_reg() |>\n",
    "           set_engine(\"lm\") |>\n",
    "           set_mode(\"regression\")"
   ]
  },
  {
   "cell_type": "code",
   "execution_count": 9,
   "id": "a22f9ab5-9d81-4110-a257-5cc47b602483",
   "metadata": {
    "tags": []
   },
   "outputs": [],
   "source": [
    "lm_recipe <- recipe(Price ~ ., data = housing_training)\n",
    "\n",
    "lm_fit  <- workflow() |>\n",
    "           add_recipe(lm_recipe) |>\n",
    "           add_model(lm_spec) |>\n",
    "           fit(data = housing_training)\n",
    "            "
   ]
  },
  {
   "cell_type": "code",
   "execution_count": null,
   "id": "5facc42e-754e-4262-9484-180333f338b3",
   "metadata": {},
   "outputs": [],
   "source": []
  },
  {
   "cell_type": "code",
   "execution_count": null,
   "id": "30d3bcbd-3c31-424d-affa-1f818ca96c9b",
   "metadata": {},
   "outputs": [],
   "source": []
  },
  {
   "cell_type": "code",
   "execution_count": null,
   "id": "19d0e94a-37df-4b06-8110-780f79c93342",
   "metadata": {},
   "outputs": [],
   "source": []
  }
 ],
 "metadata": {
  "kernelspec": {
   "display_name": "R",
   "language": "R",
   "name": "ir"
  },
  "language_info": {
   "codemirror_mode": "r",
   "file_extension": ".r",
   "mimetype": "text/x-r-source",
   "name": "R",
   "pygments_lexer": "r",
   "version": "4.2.2"
  }
 },
 "nbformat": 4,
 "nbformat_minor": 5
}
