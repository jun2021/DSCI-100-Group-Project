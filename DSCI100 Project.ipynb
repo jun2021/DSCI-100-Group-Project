{
 "cells": [
  {
   "cell_type": "markdown",
   "id": "6a1ce8e4-dafb-4a4b-bfbd-ca9302793341",
   "metadata": {},
   "source": [
    "# Project !!!!!! Jun Create this !!!"
   ]
  }
 ],
 "metadata": {
  "kernelspec": {
   "display_name": "R",
   "language": "R",
   "name": "ir"
  },
  "language_info": {
   "codemirror_mode": "r",
   "file_extension": ".r",
   "mimetype": "text/x-r-source",
   "name": "R",
   "pygments_lexer": "r",
   "version": "4.2.2"
  }
 },
 "nbformat": 4,
 "nbformat_minor": 5
}
