{
 "cells": [
  {
   "cell_type": "markdown",
   "id": "6a1ce8e4-dafb-4a4b-bfbd-ca9302793341",
   "metadata": {},
   "source": [
    "# Finding investment properties in Melbourne"
   ]
  },
  {
   "cell_type": "markdown",
   "id": "57a84c75-d7d1-4ed4-990e-25e7f40737ab",
   "metadata": {},
   "source": [
    "# Introduction\n",
    "In recent years, global housing prices have been experiencing different changes in response to the market. In Melbourne, housing prices are also generating fluctuations and generating a lot of discussion. Known for its diversity and cultural scene, Melbourne has also been a popular property market that attracts investors from all over the world, and thus Melbourne's house prices have been stimulating interest in research. In this project, we will focus on Melbourne's house prices, hoping to create a model that can predict house prices more accurately. Along with information on a number of influencing factors, we will be able to answer the question, \"What homes in Melbourne are undervalued or overvalued?\". The crux of the question is to determine if the property is worth investing in. To answer this question, we will use the Melbourne Housing Dataset. In this dataset we have 21 variables and we want to select 8 of them as the main influencing factors. We will use the corr() method to select these 8 factors, which will be the major determinants of house prices, so we will select these 8 factors to model and predict whether different houses in Melbourne are worth buying at different house prices.\n",
    "\n"
   ]
  },
  {
   "cell_type": "code",
   "execution_count": 18,
   "id": "bfd00ead-eea5-4704-9187-c8448e569b82",
   "metadata": {
    "tags": []
   },
   "outputs": [
    {
     "name": "stderr",
     "output_type": "stream",
     "text": [
      "Updating HTML index of packages in '.Library'\n",
      "\n",
      "Making 'packages.html' ...\n",
      " done\n",
      "\n"
     ]
    }
   ],
   "source": [
    "install.packages(\"GGally\")\n",
    "library(tidyverse)\n",
    "library(repr)\n",
    "library(tidymodels)\n",
    "library(GGally)\n",
    "options(repr.matrix.max.rows = 6)"
   ]
  },
  {
   "cell_type": "code",
   "execution_count": null,
   "id": "e5840619-055b-4c61-bf2e-43fa28e3de72",
   "metadata": {},
   "outputs": [],
   "source": []
  }
 ],
 "metadata": {
  "kernelspec": {
   "display_name": "R",
   "language": "R",
   "name": "ir"
  },
  "language_info": {
   "codemirror_mode": "r",
   "file_extension": ".r",
   "mimetype": "text/x-r-source",
   "name": "R",
   "pygments_lexer": "r",
   "version": "4.2.2"
  }
 },
 "nbformat": 4,
 "nbformat_minor": 5
}
