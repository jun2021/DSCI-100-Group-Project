{
 "cells": [
  {
   "cell_type": "markdown",
   "id": "6a1ce8e4-dafb-4a4b-bfbd-ca9302793341",
   "metadata": {},
   "source": [
    "# Project !!!!!! Jun Create this !!!\n",
    "# TRY A NEW ONE"
   ]
  },
  {
   "cell_type": "markdown",
   "id": "57a84c75-d7d1-4ed4-990e-25e7f40737ab",
   "metadata": {},
   "source": [
    "In recent years, global housing has experienced robust growth Melbourne is known for its diversity and cultural scene, and it is always a popular real estate scene that attracts investors globally. In our project, we will mainly focus on the housing prices in Melbourne. We will explore whether a property is worth the investment in Melbourne. In essence, “What houses in Melbourne are undervalued, and thus a potential investment?”  To answer this question, we will use the Melbourne Housing Dataset. In this dataset, we have 21 variables, of which we will only focus on eight of them. These are the number of rooms, distance from the city center, number of bathrooms, property size, building area, the year the building was constructed, its location, and the number of properties in the city block. These will be our predictors and have the price of the property as our response variable.\n"
   ]
  },
  {
   "cell_type": "markdown",
   "id": "ebce82aa-989b-4518-a211-e5696d277358",
   "metadata": {},
   "source": [
    "balalalalalal\n"
   ]
  },
  {
   "cell_type": "code",
   "execution_count": null,
   "id": "7eba8cc3-bc5d-4a16-8683-dddde04cb0d6",
   "metadata": {},
   "outputs": [],
   "source": [
    "sddhsd"
   ]
  },
  {
   "cell_type": "code",
   "execution_count": null,
   "id": "09e40375-09a3-4eb6-921c-ffb974d98ec8",
   "metadata": {},
   "outputs": [],
   "source": [
    "bala"
   ]
  },
  {
   "cell_type": "code",
   "execution_count": null,
   "id": "bfd00ead-eea5-4704-9187-c8448e569b82",
   "metadata": {},
   "outputs": [],
   "source": []
  }
 ],
 "metadata": {
  "kernelspec": {
   "display_name": "R",
   "language": "R",
   "name": "ir"
  },
  "language_info": {
   "codemirror_mode": "r",
   "file_extension": ".r",
   "mimetype": "text/x-r-source",
   "name": "R",
   "pygments_lexer": "r",
   "version": "4.2.2"
  }
 },
 "nbformat": 4,
 "nbformat_minor": 5
}
