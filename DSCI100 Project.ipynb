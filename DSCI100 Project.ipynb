{
 "cells": [
  {
   "cell_type": "markdown",
   "id": "6a1ce8e4-dafb-4a4b-bfbd-ca9302793341",
   "metadata": {},
   "source": [
    "# Project !!!!!! Jun Create this !!!\n",
    "# TRY A NEW ONE"
   ]
  },
  {
   "cell_type": "markdown",
   "id": "ade183ff-8977-49b2-b66a-90339dd4420c",
   "metadata": {
    "tags": []
   },
   "source": [
    " In recent years, global housing has experienced robust growth, but some regions have faced decline. Melbourne is known for its diversity and cultural scene, and it is always a popular  real estate scene that attracts investors globally. In our project, we will mainly focus on the housing prices in Melbourne. We will explore whether a property is worth the investment in Melbourne. In essence, “What houses in Melbourne are undervalued, and thus a potential investment?”            To answer this question, we will use the Melbourne Housing Dataset. In this dataset we have 21 variables, of which we will only focus on eight of them. These are: the number of rooms, distance from city center, number of bathrooms, property size, building area, the year the building was constructed, its location and the number of properties in the city block. These will be our predictors and have the price of the property as our response variable."
   ]
  },
  {
   "cell_type": "code",
   "execution_count": 1,
   "id": "1acfcdf7-b276-46a9-8055-23c9044c127b",
   "metadata": {
    "tags": []
   },
   "outputs": [
    {
     "name": "stderr",
     "output_type": "stream",
     "text": [
      "── \u001b[1mAttaching packages\u001b[22m ─────────────────────────────────────── tidyverse 1.3.2 ──\n",
      "\u001b[32m✔\u001b[39m \u001b[34mggplot2\u001b[39m 3.4.2     \u001b[32m✔\u001b[39m \u001b[34mpurrr  \u001b[39m 1.0.1\n",
      "\u001b[32m✔\u001b[39m \u001b[34mtibble \u001b[39m 3.2.1     \u001b[32m✔\u001b[39m \u001b[34mdplyr  \u001b[39m 1.1.1\n",
      "\u001b[32m✔\u001b[39m \u001b[34mtidyr  \u001b[39m 1.3.0     \u001b[32m✔\u001b[39m \u001b[34mstringr\u001b[39m 1.5.0\n",
      "\u001b[32m✔\u001b[39m \u001b[34mreadr  \u001b[39m 2.1.3     \u001b[32m✔\u001b[39m \u001b[34mforcats\u001b[39m 0.5.2\n",
      "── \u001b[1mConflicts\u001b[22m ────────────────────────────────────────── tidyverse_conflicts() ──\n",
      "\u001b[31m✖\u001b[39m \u001b[34mdplyr\u001b[39m::\u001b[32mfilter()\u001b[39m masks \u001b[34mstats\u001b[39m::filter()\n",
      "\u001b[31m✖\u001b[39m \u001b[34mdplyr\u001b[39m::\u001b[32mlag()\u001b[39m    masks \u001b[34mstats\u001b[39m::lag()\n",
      "── \u001b[1mAttaching packages\u001b[22m ────────────────────────────────────── tidymodels 1.0.0 ──\n",
      "\n",
      "\u001b[32m✔\u001b[39m \u001b[34mbroom       \u001b[39m 1.0.2     \u001b[32m✔\u001b[39m \u001b[34mrsample     \u001b[39m 1.1.1\n",
      "\u001b[32m✔\u001b[39m \u001b[34mdials       \u001b[39m 1.1.0     \u001b[32m✔\u001b[39m \u001b[34mtune        \u001b[39m 1.0.1\n",
      "\u001b[32m✔\u001b[39m \u001b[34minfer       \u001b[39m 1.0.4     \u001b[32m✔\u001b[39m \u001b[34mworkflows   \u001b[39m 1.1.2\n",
      "\u001b[32m✔\u001b[39m \u001b[34mmodeldata   \u001b[39m 1.0.1     \u001b[32m✔\u001b[39m \u001b[34mworkflowsets\u001b[39m 1.0.0\n",
      "\u001b[32m✔\u001b[39m \u001b[34mparsnip     \u001b[39m 1.0.3     \u001b[32m✔\u001b[39m \u001b[34myardstick   \u001b[39m 1.1.0\n",
      "\u001b[32m✔\u001b[39m \u001b[34mrecipes     \u001b[39m 1.0.4     \n",
      "\n",
      "── \u001b[1mConflicts\u001b[22m ───────────────────────────────────────── tidymodels_conflicts() ──\n",
      "\u001b[31m✖\u001b[39m \u001b[34mscales\u001b[39m::\u001b[32mdiscard()\u001b[39m masks \u001b[34mpurrr\u001b[39m::discard()\n",
      "\u001b[31m✖\u001b[39m \u001b[34mdplyr\u001b[39m::\u001b[32mfilter()\u001b[39m   masks \u001b[34mstats\u001b[39m::filter()\n",
      "\u001b[31m✖\u001b[39m \u001b[34mrecipes\u001b[39m::\u001b[32mfixed()\u001b[39m  masks \u001b[34mstringr\u001b[39m::fixed()\n",
      "\u001b[31m✖\u001b[39m \u001b[34mdplyr\u001b[39m::\u001b[32mlag()\u001b[39m      masks \u001b[34mstats\u001b[39m::lag()\n",
      "\u001b[31m✖\u001b[39m \u001b[34myardstick\u001b[39m::\u001b[32mspec()\u001b[39m masks \u001b[34mreadr\u001b[39m::spec()\n",
      "\u001b[31m✖\u001b[39m \u001b[34mrecipes\u001b[39m::\u001b[32mstep()\u001b[39m   masks \u001b[34mstats\u001b[39m::step()\n",
      "\u001b[34m•\u001b[39m Learn how to get started at \u001b[32mhttps://www.tidymodels.org/start/\u001b[39m\n",
      "\n",
      "Updating HTML index of packages in '.Library'\n",
      "\n",
      "Making 'packages.html' ...\n",
      " done\n",
      "\n"
     ]
    }
   ],
   "source": [
    "library(tidyverse)\n",
    "library(tidymodels)\n",
    "install.packages(\"GGally\")\n",
    "\n",
    "\n",
    "options(repr.matrix.max.rows = 6)\n"
   ]
  },
  {
   "cell_type": "code",
   "execution_count": 15,
   "id": "36b45503-b485-4985-839e-21907c5a038b",
   "metadata": {
    "tags": []
   },
   "outputs": [
    {
     "name": "stderr",
     "output_type": "stream",
     "text": [
      "Updating HTML index of packages in '.Library'\n",
      "\n",
      "Making 'packages.html' ...\n",
      " done\n",
      "\n"
     ]
    }
   ],
   "source": [
    "\n",
    "install.packages(\"ggplot2\")  \n"
   ]
  },
  {
   "cell_type": "code",
   "execution_count": 16,
   "id": "3b1f1f25-48f2-464b-ac57-69f0b8d22a79",
   "metadata": {
    "tags": []
   },
   "outputs": [],
   "source": [
    "library(GGally)\n",
    "library(ggplot2)"
   ]
  },
  {
   "cell_type": "code",
   "execution_count": 4,
   "id": "d6ab9f20-6135-4cb1-bda1-51109d21a9b1",
   "metadata": {
    "tags": []
   },
   "outputs": [
    {
     "name": "stderr",
     "output_type": "stream",
     "text": [
      "\u001b[1mRows: \u001b[22m\u001b[34m13580\u001b[39m \u001b[1mColumns: \u001b[22m\u001b[34m21\u001b[39m\n",
      "\u001b[36m──\u001b[39m \u001b[1mColumn specification\u001b[22m \u001b[36m────────────────────────────────────────────────────────\u001b[39m\n",
      "\u001b[1mDelimiter:\u001b[22m \",\"\n",
      "\u001b[31mchr\u001b[39m  (8): Suburb, Address, Type, Method, SellerG, Date, CouncilArea, Regionname\n",
      "\u001b[32mdbl\u001b[39m (13): Rooms, Price, Distance, Postcode, Bedroom2, Bathroom, Car, Landsiz...\n",
      "\n",
      "\u001b[36mℹ\u001b[39m Use `spec()` to retrieve the full column specification for this data.\n",
      "\u001b[36mℹ\u001b[39m Specify the column types or set `show_col_types = FALSE` to quiet this message.\n"
     ]
    },
    {
     "data": {
      "text/html": [
       "<table class=\"dataframe\">\n",
       "<caption>A spec_tbl_df: 13580 × 21</caption>\n",
       "<thead>\n",
       "\t<tr><th scope=col>Suburb</th><th scope=col>Address</th><th scope=col>Rooms</th><th scope=col>Type</th><th scope=col>Price</th><th scope=col>Method</th><th scope=col>SellerG</th><th scope=col>Date</th><th scope=col>Distance</th><th scope=col>Postcode</th><th scope=col>⋯</th><th scope=col>Bathroom</th><th scope=col>Car</th><th scope=col>Landsize</th><th scope=col>BuildingArea</th><th scope=col>YearBuilt</th><th scope=col>CouncilArea</th><th scope=col>Lattitude</th><th scope=col>Longtitude</th><th scope=col>Regionname</th><th scope=col>Propertycount</th></tr>\n",
       "\t<tr><th scope=col>&lt;chr&gt;</th><th scope=col>&lt;chr&gt;</th><th scope=col>&lt;dbl&gt;</th><th scope=col>&lt;chr&gt;</th><th scope=col>&lt;dbl&gt;</th><th scope=col>&lt;chr&gt;</th><th scope=col>&lt;chr&gt;</th><th scope=col>&lt;chr&gt;</th><th scope=col>&lt;dbl&gt;</th><th scope=col>&lt;dbl&gt;</th><th scope=col>⋯</th><th scope=col>&lt;dbl&gt;</th><th scope=col>&lt;dbl&gt;</th><th scope=col>&lt;dbl&gt;</th><th scope=col>&lt;dbl&gt;</th><th scope=col>&lt;dbl&gt;</th><th scope=col>&lt;chr&gt;</th><th scope=col>&lt;dbl&gt;</th><th scope=col>&lt;dbl&gt;</th><th scope=col>&lt;chr&gt;</th><th scope=col>&lt;dbl&gt;</th></tr>\n",
       "</thead>\n",
       "<tbody>\n",
       "\t<tr><td>Abbotsford</td><td>85 Turner St   </td><td>2</td><td>h</td><td>1480000</td><td>S </td><td>Biggin</td><td>3/12/2016</td><td>2.5</td><td>3067</td><td>⋯</td><td>1</td><td>1</td><td>202</td><td> NA</td><td>  NA</td><td>Yarra</td><td>-37.7996</td><td>144.9984</td><td>Northern Metropolitan</td><td>4019</td></tr>\n",
       "\t<tr><td>Abbotsford</td><td>25 Bloomburg St</td><td>2</td><td>h</td><td>1035000</td><td>S </td><td>Biggin</td><td>4/02/2016</td><td>2.5</td><td>3067</td><td>⋯</td><td>1</td><td>0</td><td>156</td><td> 79</td><td>1900</td><td>Yarra</td><td>-37.8079</td><td>144.9934</td><td>Northern Metropolitan</td><td>4019</td></tr>\n",
       "\t<tr><td>Abbotsford</td><td>5 Charles St   </td><td>3</td><td>h</td><td>1465000</td><td>SP</td><td>Biggin</td><td>4/03/2017</td><td>2.5</td><td>3067</td><td>⋯</td><td>2</td><td>0</td><td>134</td><td>150</td><td>1900</td><td>Yarra</td><td>-37.8093</td><td>144.9944</td><td>Northern Metropolitan</td><td>4019</td></tr>\n",
       "\t<tr><td>⋮</td><td>⋮</td><td>⋮</td><td>⋮</td><td>⋮</td><td>⋮</td><td>⋮</td><td>⋮</td><td>⋮</td><td>⋮</td><td>⋱</td><td>⋮</td><td>⋮</td><td>⋮</td><td>⋮</td><td>⋮</td><td>⋮</td><td>⋮</td><td>⋮</td><td>⋮</td><td>⋮</td></tr>\n",
       "\t<tr><td>Williamstown</td><td>83 Power St </td><td>3</td><td>h</td><td>1170000</td><td>S </td><td>Raine  </td><td>26/08/2017</td><td>6.8</td><td>3016</td><td>⋯</td><td>2</td><td>4</td><td>436</td><td> NA</td><td>1997</td><td>NA</td><td>-37.85274</td><td>144.8874</td><td>Western Metropolitan</td><td>6380</td></tr>\n",
       "\t<tr><td>Williamstown</td><td>96 Verdon St</td><td>4</td><td>h</td><td>2500000</td><td>PI</td><td>Sweeney</td><td>26/08/2017</td><td>6.8</td><td>3016</td><td>⋯</td><td>1</td><td>5</td><td>866</td><td>157</td><td>1920</td><td>NA</td><td>-37.85908</td><td>144.8930</td><td>Western Metropolitan</td><td>6380</td></tr>\n",
       "\t<tr><td>Yarraville  </td><td>6 Agnes St  </td><td>4</td><td>h</td><td>1285000</td><td>SP</td><td>Village</td><td>26/08/2017</td><td>6.3</td><td>3013</td><td>⋯</td><td>1</td><td>1</td><td>362</td><td>112</td><td>1920</td><td>NA</td><td>-37.81188</td><td>144.8845</td><td>Western Metropolitan</td><td>6543</td></tr>\n",
       "</tbody>\n",
       "</table>\n"
      ],
      "text/latex": [
       "A spec\\_tbl\\_df: 13580 × 21\n",
       "\\begin{tabular}{lllllllllllllllllllll}\n",
       " Suburb & Address & Rooms & Type & Price & Method & SellerG & Date & Distance & Postcode & ⋯ & Bathroom & Car & Landsize & BuildingArea & YearBuilt & CouncilArea & Lattitude & Longtitude & Regionname & Propertycount\\\\\n",
       " <chr> & <chr> & <dbl> & <chr> & <dbl> & <chr> & <chr> & <chr> & <dbl> & <dbl> & ⋯ & <dbl> & <dbl> & <dbl> & <dbl> & <dbl> & <chr> & <dbl> & <dbl> & <chr> & <dbl>\\\\\n",
       "\\hline\n",
       "\t Abbotsford & 85 Turner St    & 2 & h & 1480000 & S  & Biggin & 3/12/2016 & 2.5 & 3067 & ⋯ & 1 & 1 & 202 &  NA &   NA & Yarra & -37.7996 & 144.9984 & Northern Metropolitan & 4019\\\\\n",
       "\t Abbotsford & 25 Bloomburg St & 2 & h & 1035000 & S  & Biggin & 4/02/2016 & 2.5 & 3067 & ⋯ & 1 & 0 & 156 &  79 & 1900 & Yarra & -37.8079 & 144.9934 & Northern Metropolitan & 4019\\\\\n",
       "\t Abbotsford & 5 Charles St    & 3 & h & 1465000 & SP & Biggin & 4/03/2017 & 2.5 & 3067 & ⋯ & 2 & 0 & 134 & 150 & 1900 & Yarra & -37.8093 & 144.9944 & Northern Metropolitan & 4019\\\\\n",
       "\t ⋮ & ⋮ & ⋮ & ⋮ & ⋮ & ⋮ & ⋮ & ⋮ & ⋮ & ⋮ & ⋱ & ⋮ & ⋮ & ⋮ & ⋮ & ⋮ & ⋮ & ⋮ & ⋮ & ⋮ & ⋮\\\\\n",
       "\t Williamstown & 83 Power St  & 3 & h & 1170000 & S  & Raine   & 26/08/2017 & 6.8 & 3016 & ⋯ & 2 & 4 & 436 &  NA & 1997 & NA & -37.85274 & 144.8874 & Western Metropolitan & 6380\\\\\n",
       "\t Williamstown & 96 Verdon St & 4 & h & 2500000 & PI & Sweeney & 26/08/2017 & 6.8 & 3016 & ⋯ & 1 & 5 & 866 & 157 & 1920 & NA & -37.85908 & 144.8930 & Western Metropolitan & 6380\\\\\n",
       "\t Yarraville   & 6 Agnes St   & 4 & h & 1285000 & SP & Village & 26/08/2017 & 6.3 & 3013 & ⋯ & 1 & 1 & 362 & 112 & 1920 & NA & -37.81188 & 144.8845 & Western Metropolitan & 6543\\\\\n",
       "\\end{tabular}\n"
      ],
      "text/markdown": [
       "\n",
       "A spec_tbl_df: 13580 × 21\n",
       "\n",
       "| Suburb &lt;chr&gt; | Address &lt;chr&gt; | Rooms &lt;dbl&gt; | Type &lt;chr&gt; | Price &lt;dbl&gt; | Method &lt;chr&gt; | SellerG &lt;chr&gt; | Date &lt;chr&gt; | Distance &lt;dbl&gt; | Postcode &lt;dbl&gt; | ⋯ ⋯ | Bathroom &lt;dbl&gt; | Car &lt;dbl&gt; | Landsize &lt;dbl&gt; | BuildingArea &lt;dbl&gt; | YearBuilt &lt;dbl&gt; | CouncilArea &lt;chr&gt; | Lattitude &lt;dbl&gt; | Longtitude &lt;dbl&gt; | Regionname &lt;chr&gt; | Propertycount &lt;dbl&gt; |\n",
       "|---|---|---|---|---|---|---|---|---|---|---|---|---|---|---|---|---|---|---|---|---|\n",
       "| Abbotsford | 85 Turner St    | 2 | h | 1480000 | S  | Biggin | 3/12/2016 | 2.5 | 3067 | ⋯ | 1 | 1 | 202 |  NA |   NA | Yarra | -37.7996 | 144.9984 | Northern Metropolitan | 4019 |\n",
       "| Abbotsford | 25 Bloomburg St | 2 | h | 1035000 | S  | Biggin | 4/02/2016 | 2.5 | 3067 | ⋯ | 1 | 0 | 156 |  79 | 1900 | Yarra | -37.8079 | 144.9934 | Northern Metropolitan | 4019 |\n",
       "| Abbotsford | 5 Charles St    | 3 | h | 1465000 | SP | Biggin | 4/03/2017 | 2.5 | 3067 | ⋯ | 2 | 0 | 134 | 150 | 1900 | Yarra | -37.8093 | 144.9944 | Northern Metropolitan | 4019 |\n",
       "| ⋮ | ⋮ | ⋮ | ⋮ | ⋮ | ⋮ | ⋮ | ⋮ | ⋮ | ⋮ | ⋱ | ⋮ | ⋮ | ⋮ | ⋮ | ⋮ | ⋮ | ⋮ | ⋮ | ⋮ | ⋮ |\n",
       "| Williamstown | 83 Power St  | 3 | h | 1170000 | S  | Raine   | 26/08/2017 | 6.8 | 3016 | ⋯ | 2 | 4 | 436 |  NA | 1997 | NA | -37.85274 | 144.8874 | Western Metropolitan | 6380 |\n",
       "| Williamstown | 96 Verdon St | 4 | h | 2500000 | PI | Sweeney | 26/08/2017 | 6.8 | 3016 | ⋯ | 1 | 5 | 866 | 157 | 1920 | NA | -37.85908 | 144.8930 | Western Metropolitan | 6380 |\n",
       "| Yarraville   | 6 Agnes St   | 4 | h | 1285000 | SP | Village | 26/08/2017 | 6.3 | 3013 | ⋯ | 1 | 1 | 362 | 112 | 1920 | NA | -37.81188 | 144.8845 | Western Metropolitan | 6543 |\n",
       "\n"
      ],
      "text/plain": [
       "      Suburb       Address         Rooms Type Price   Method SellerG Date      \n",
       "1     Abbotsford   85 Turner St    2     h    1480000 S      Biggin  3/12/2016 \n",
       "2     Abbotsford   25 Bloomburg St 2     h    1035000 S      Biggin  4/02/2016 \n",
       "3     Abbotsford   5 Charles St    3     h    1465000 SP     Biggin  4/03/2017 \n",
       "⋮     ⋮            ⋮               ⋮     ⋮    ⋮       ⋮      ⋮       ⋮         \n",
       "13578 Williamstown 83 Power St     3     h    1170000 S      Raine   26/08/2017\n",
       "13579 Williamstown 96 Verdon St    4     h    2500000 PI     Sweeney 26/08/2017\n",
       "13580 Yarraville   6 Agnes St      4     h    1285000 SP     Village 26/08/2017\n",
       "      Distance Postcode ⋯ Bathroom Car Landsize BuildingArea YearBuilt\n",
       "1     2.5      3067     ⋯ 1        1   202       NA            NA     \n",
       "2     2.5      3067     ⋯ 1        0   156       79          1900     \n",
       "3     2.5      3067     ⋯ 2        0   134      150          1900     \n",
       "⋮     ⋮        ⋮        ⋱ ⋮        ⋮   ⋮        ⋮            ⋮        \n",
       "13578 6.8      3016     ⋯ 2        4   436       NA          1997     \n",
       "13579 6.8      3016     ⋯ 1        5   866      157          1920     \n",
       "13580 6.3      3013     ⋯ 1        1   362      112          1920     \n",
       "      CouncilArea Lattitude Longtitude Regionname            Propertycount\n",
       "1     Yarra       -37.7996  144.9984   Northern Metropolitan 4019         \n",
       "2     Yarra       -37.8079  144.9934   Northern Metropolitan 4019         \n",
       "3     Yarra       -37.8093  144.9944   Northern Metropolitan 4019         \n",
       "⋮     ⋮           ⋮         ⋮          ⋮                     ⋮            \n",
       "13578 NA          -37.85274 144.8874   Western Metropolitan  6380         \n",
       "13579 NA          -37.85908 144.8930   Western Metropolitan  6380         \n",
       "13580 NA          -37.81188 144.8845   Western Metropolitan  6543         "
      ]
     },
     "metadata": {},
     "output_type": "display_data"
    }
   ],
   "source": [
    "housing_data<- read_csv(\"https://raw.githubusercontent.com/jun2021/DSCI-100-Group-Project/main/melb_data.csv\")\n",
    "housing_data"
   ]
  },
  {
   "cell_type": "markdown",
   "id": "811dea27-bd72-4c20-b6e6-ad10f086012a",
   "metadata": {},
   "source": [
    "Reading the Melbourne Housing Data from the web. Find out more about the dataset at this url:https://www.kaggle.com/datasets/dansbecker/melbourne-housing-snapshot"
   ]
  },
  {
   "cell_type": "markdown",
   "id": "9bcce9c6-08cf-4e5a-8da5-32b8fabadd34",
   "metadata": {},
   "source": [
    "This dataset cointains many columns we might not interested in. "
   ]
  },
  {
   "cell_type": "code",
   "execution_count": 17,
   "id": "80bd6965-e0ae-416b-bf97-91d4a910aa11",
   "metadata": {
    "tags": []
   },
   "outputs": [
    {
     "name": "stderr",
     "output_type": "stream",
     "text": [
      "\u001b[1m\u001b[22m`stat_bin()` using `bins = 30`. Pick better value with `binwidth`.\n",
      "ERROR while rich displaying an object: Error in loadNamespace(x): there is no package called ‘labeling’\n",
      "\n",
      "Traceback:\n",
      "1. tryCatch(withCallingHandlers({\n",
      " .     if (!mime %in% names(repr::mime2repr)) \n",
      " .         stop(\"No repr_* for mimetype \", mime, \" in repr::mime2repr\")\n",
      " .     rpr <- repr::mime2repr[[mime]](obj)\n",
      " .     if (is.null(rpr)) \n",
      " .         return(NULL)\n",
      " .     prepare_content(is.raw(rpr), rpr)\n",
      " . }, error = error_handler), error = outer_handler)\n",
      "2. tryCatchList(expr, classes, parentenv, handlers)\n",
      "3. tryCatchOne(expr, names, parentenv, handlers[[1L]])\n",
      "4. doTryCatch(return(expr), name, parentenv, handler)\n",
      "5. withCallingHandlers({\n",
      " .     if (!mime %in% names(repr::mime2repr)) \n",
      " .         stop(\"No repr_* for mimetype \", mime, \" in repr::mime2repr\")\n",
      " .     rpr <- repr::mime2repr[[mime]](obj)\n",
      " .     if (is.null(rpr)) \n",
      " .         return(NULL)\n",
      " .     prepare_content(is.raw(rpr), rpr)\n",
      " . }, error = error_handler)\n",
      "6. repr::mime2repr[[mime]](obj)\n",
      "7. repr_text.default(obj)\n",
      "8. paste(capture.output(print(obj)), collapse = \"\\n\")\n",
      "9. capture.output(print(obj))\n",
      "10. withVisible(...elt(i))\n",
      "11. print(obj)\n",
      "12. print.ggmatrix(obj)\n",
      "13. ggmatrix_gtable(x, ...)\n",
      "14. plot_gtable(p)\n",
      "15. ggplot_gtable(ggplot_build(p))\n",
      "16. attach_plot_env(data$plot$plot_env)\n",
      "17. options(ggplot2_plot_env = env)\n",
      "18. ggplot_build(p)\n",
      "19. ggplot_build.ggplot(p)\n",
      "20. layout$setup_panel_params()\n",
      "21. setup_panel_params(..., self = self)\n",
      "22. Map(setup_panel_params, scales_x, scales_y)\n",
      "23. mapply(FUN = f, ..., SIMPLIFY = FALSE)\n",
      "24. (function (scale_x, scale_y) \n",
      "  . {\n",
      "  .     self$coord$setup_panel_params(scale_x, scale_y, params = self$coord_params)\n",
      "  . })(dots[[1L]][[1L]], dots[[2L]][[1L]])\n",
      "25. self$coord$setup_panel_params(scale_x, scale_y, params = self$coord_params)\n",
      "26. setup_panel_params(..., self = self)\n",
      "27. view_scales_from_scale(scale_x, self$limits$x, self$expand)\n",
      "28. view_scale_primary(scale, limits, continuous_range)\n",
      "29. scale$get_breaks(continuous_scale_sorted)\n",
      "30. get_breaks(..., self = self)\n",
      "31. self$trans$breaks(limits)\n",
      "32. loadNamespace(x)\n",
      "33. withRestarts(stop(cond), retry_loadNamespace = function() NULL)\n",
      "34. withOneRestart(expr, restarts[[1L]])\n",
      "35. doWithOneRestart(return(expr), restart)\n"
     ]
    }
   ],
   "source": [
    "housing_paiplot <- housing_data |> \n",
    "    select(-Suburb, - Address, -SellerG,-Date, -CouncilArea)|>\n",
    "    ggpairs(\n",
    "        lower = list(continuous = wrap('points', alpha = 0.4)),\n",
    "        diag = list(continuous = \"barDiag\")\n",
    "    ) +\n",
    "    theme(text = element_text(size = 20))\n",
    "\n",
    "housing_paiplot"
   ]
  },
  {
   "cell_type": "code",
   "execution_count": null,
   "id": "7227d902-eb64-4421-bb3a-360703315943",
   "metadata": {},
   "outputs": [],
   "source": []
  }
 ],
 "metadata": {
  "kernelspec": {
   "display_name": "R",
   "language": "R",
   "name": "ir"
  },
  "language_info": {
   "codemirror_mode": "r",
   "file_extension": ".r",
   "mimetype": "text/x-r-source",
   "name": "R",
   "pygments_lexer": "r",
   "version": "4.2.2"
  }
 },
 "nbformat": 4,
 "nbformat_minor": 5
}
